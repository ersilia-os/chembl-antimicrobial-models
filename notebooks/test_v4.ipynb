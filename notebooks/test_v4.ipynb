{
 "cells": [
  {
   "cell_type": "code",
   "execution_count": 1,
   "id": "79791111",
   "metadata": {},
   "outputs": [],
   "source": [
    "from sklearn.model_selection import StratifiedKFold\n",
    "from lazyqsar.models import LazyRandomForestBinaryClassifier\n",
    "from lazyqsar.models import LazyLogisticRegressionBinaryClassifier\n",
    "import lazyqsar\n",
    "from sklearn.metrics import roc_auc_score\n",
    "import pandas as pd\n",
    "import numpy as np\n",
    "import collections\n",
    "import joblib\n",
    "import os\n",
    "\n",
    "# Get all pathogens i.e. {pathogen}_{target}\n",
    "PATHOGENS = sorted(os.listdir(os.path.join(\"..\", \"data\")))\n",
    "\n",
    "# Define some paths\n",
    "PATH_TO_FEATURES = os.path.join(\"..\", \"output\", \"02_features\")\n",
    "PATH_TO_OUTPUT = os.path.join(\"..\", \"output\", \"03_baseline_models\")"
   ]
  },
  {
   "cell_type": "code",
   "execution_count": 2,
   "id": "bab2ae6e",
   "metadata": {},
   "outputs": [
    {
     "name": "stdout",
     "output_type": "stream",
     "text": [
      "----------------------- PATHOGEN: abaumannii_organism ---------------------------\n"
     ]
    }
   ],
   "source": [
    "for pathogen in PATHOGENS:\n",
    "\n",
    "    print(f\"----------------------- PATHOGEN: {pathogen} ---------------------------\")\n",
    "\n",
    "    # Get list of tasks\n",
    "    tasks = sorted(os.listdir(os.path.join(\"..\", \"data\", pathogen)))\n",
    "\n",
    "    # Get IK to MFP\n",
    "    IKs = open(os.path.join(PATH_TO_FEATURES, pathogen, 'IKs_CheMeleon.txt')).read().splitlines()\n",
    "    CheMeleons = np.load(os.path.join(PATH_TO_FEATURES, pathogen, \"X_CheMeleon.npz\"))['X']\n",
    "    IK_TO_CHEMELEONS = {i: j for i, j in zip(IKs, CheMeleons)}\n",
    "\n",
    "    break\n"
   ]
  },
  {
   "cell_type": "code",
   "execution_count": 4,
   "id": "8537ce7a",
   "metadata": {},
   "outputs": [
    {
     "name": "stdout",
     "output_type": "stream",
     "text": [
      "TASK: 2_target_CHEMBL614425_mic_um_pchembl_value_5_ORGANISM_1.csv\n",
      "(5924, 2048)\n"
     ]
    }
   ],
   "source": [
    "# For each task\n",
    "for task in tasks:\n",
    "\n",
    "    task = \"2_target_CHEMBL614425_mic_um_pchembl_value_5_ORGANISM_1.csv\"\n",
    "\n",
    "    print(f\"TASK: {task}\")\n",
    "\n",
    "    # Create output_dir\n",
    "    output_dir = os.path.join(PATH_TO_OUTPUT, pathogen, task.replace(\".csv\", \"\"))\n",
    "    os.makedirs(output_dir, exist_ok=True)\n",
    "\n",
    "    # Load data\n",
    "    df = pd.read_csv(os.path.join(\"..\", \"data\", pathogen, task))\n",
    "    cols = df.columns.tolist()\n",
    "    X, Y = [], []\n",
    "    for ik, act in zip(df['inchikey'], df[cols[2]]):\n",
    "        if ik in IK_TO_CHEMELEONS:\n",
    "            X.append(IK_TO_CHEMELEONS[ik])\n",
    "            Y.append(act)\n",
    "\n",
    "    # To np.array\n",
    "    X = np.array(X)\n",
    "    Y = np.array(Y)\n",
    "\n",
    "    print(X.shape)\n",
    "\n",
    "    break"
   ]
  },
  {
   "cell_type": "code",
   "execution_count": 5,
   "id": "b7558493",
   "metadata": {},
   "outputs": [],
   "source": [
    "# Cross-validations\n",
    "n_folds = 5\n",
    "skf = StratifiedKFold(n_splits=n_folds, shuffle=True, random_state=42)\n",
    "aurocs = []\n",
    "for train_index, test_index in skf.split(X, Y):\n",
    "    # print(\"Training CV model...\")\n",
    "    X_train, X_test = X[train_index], X[test_index]\n",
    "    y_train, y_test = Y[train_index], Y[test_index]\n",
    "\n",
    "    break\n",
    "    # zero_shot_cv = ZeroShotRandomForestClassifier()\n",
    "    # hyperparams = zero_shot_cv.suggest_hyperparams(X_train, y_train)[0]\n",
    "    # hyperparams['n_jobs'] = 8\n",
    "    # # hyperparams['n_estimators'] = 10\n",
    "    # model_cv = RandomForestClassifier(**hyperparams)\n",
    "    # model_cv.fit(X_train, y_train)\n",
    "    # fpr, tpr, _ = roc_curve(y_test, model_cv.predict_proba(X_test)[:, 1])\n",
    "    # auroc = auc(fpr, tpr)\n",
    "    # aurocs.append(auroc)"
   ]
  },
  {
   "cell_type": "code",
   "execution_count": 9,
   "id": "f4627848",
   "metadata": {},
   "outputs": [
    {
     "name": "stdout",
     "output_type": "stream",
     "text": [
      "Total samples: 4739, positive samples: 1132, negative samples: 3607\n",
      "Maximum samples per partition: 100000, minimum samples per partition: 30\n",
      "Positive proportion: 0.24\n",
      "Original positive samples: 1132, total samples: 4739\n",
      "Maximum samples: 100000\n",
      "Sampling 1132 positive and 3607 negative samples from 4739 total samples.\n"
     ]
    },
    {
     "name": "stderr",
     "output_type": "stream",
     "text": [
      "  1%|          | 10/1000 [00:00<00:12, 77.71it/s]\n"
     ]
    },
    {
     "name": "stdout",
     "output_type": "stream",
     "text": [
      "Unique sampled indices matrix shape: (1, 4739)\n"
     ]
    },
    {
     "name": "stderr",
     "output_type": "stream",
     "text": [
      "100%|██████████| 1/1 [00:05<00:00,  5.58s/it]\n"
     ]
    },
    {
     "name": "stdout",
     "output_type": "stream",
     "text": [
      "Indices matrix shape after redundancy removal: (1, 4739)\n",
      "Original positive negative balance: positive 1132, negative 3607\n",
      "Avg positive samples: 1132.0, avg negative samples: 3607.0\n"
     ]
    },
    {
     "name": "stderr",
     "output_type": "stream",
     "text": [
      "[I 2025-07-22 17:19:50,468] A new study created in memory with name: no-name-e2c07da5-d4de-4652-8190-a5f344c932d8\n"
     ]
    },
    {
     "name": "stdout",
     "output_type": "stream",
     "text": [
      "Fitting model on 4739 samples, positive samples: 1132, negative samples: 3607, number of features 1934\n",
      "Fitting...\n"
     ]
    },
    {
     "name": "stderr",
     "output_type": "stream",
     "text": [
      "[I 2025-07-22 17:21:10,339] Trial 0 finished with value: 0.8894148995177132 and parameters: {'n_components': 0.99}. Best is trial 0 with value: 0.8894148995177132.\n"
     ]
    },
    {
     "name": "stdout",
     "output_type": "stream",
     "text": [
      "Working on the PCA\n"
     ]
    },
    {
     "name": "stderr",
     "output_type": "stream",
     "text": [
      "[I 2025-07-22 17:21:13,811] A new study created in memory with name: no-name-03fe057f-e482-4c5f-9219-82143508eb69\n"
     ]
    },
    {
     "name": "stdout",
     "output_type": "stream",
     "text": [
      "Suggested zero-shot hyperparameters: {'n_estimators': 501, 'max_features': 0.24484242524861066, 'criterion': 'entropy', 'max_leaf_nodes': 1156, 'random_state': 12032022, 'verbose': 0, 'class_weight': 'balanced_subsample'}\n",
      "Fitting...\n"
     ]
    },
    {
     "name": "stderr",
     "output_type": "stream",
     "text": [
      "[I 2025-07-22 17:23:23,616] Trial 0 finished with value: 0.9012108937343789 and parameters: {'n_estimators': 501, 'max_features': 0.24484242524861066, 'max_leaf_nodes': 1156, 'criterion': 'entropy'}. Best is trial 0 with value: 0.9012108937343789.\n"
     ]
    },
    {
     "name": "stdout",
     "output_type": "stream",
     "text": [
      "Best hyperparameters: {'n_estimators': 501, 'max_features': 0.24484242524861066, 'max_leaf_nodes': 1156, 'criterion': 'entropy', 'n_jobs': 8, 'random_state': 42, 'class_weight': 'balanced_subsample'}, Inner hyperparameter AUROC: 0.9012108937343789\n",
      "Internal AUROC CV-0: 0.8978829926429684\n",
      "Internal AUROC CV-1: 0.9134197268731441\n",
      "Internal AUROC CV-2: 0.8809105012026669\n",
      "Logistic regression for calibration...\n",
      "Logistic regression fit done.\n",
      "Average AUROC: 0.8974044069062598\n",
      "Model fitted.\n",
      "Fitting completed in 416.58 seconds.\n"
     ]
    },
    {
     "data": {
      "text/plain": [
       "<lazyqsar.models.random_forest_binary_classifier.LazyRandomForestBinaryClassifier at 0x7cd2630d88d0>"
      ]
     },
     "execution_count": 9,
     "metadata": {},
     "output_type": "execute_result"
    }
   ],
   "source": [
    "model = LazyRandomForestBinaryClassifier(pca=True, max_samples=100000, num_trials=10)\n",
    "model.fit(X_train, y_train)"
   ]
  },
  {
   "cell_type": "code",
   "execution_count": 10,
   "id": "8d795b32",
   "metadata": {},
   "outputs": [
    {
     "name": "stdout",
     "output_type": "stream",
     "text": [
      "[VarianceThreshold(threshold=0)] BaseRandomForestBinaryClassifier(num_trials=10, pca=True, timeout=120)\n"
     ]
    },
    {
     "name": "stderr",
     "output_type": "stream",
     "text": [
      "Predicting chunks...: 2it [00:00,  6.76it/s]\n"
     ]
    }
   ],
   "source": [
    "preds = model.predict(X_test)"
   ]
  },
  {
   "cell_type": "code",
   "execution_count": 11,
   "id": "70b5b1b3",
   "metadata": {},
   "outputs": [
    {
     "data": {
      "text/plain": [
       "0.9293527535914713"
      ]
     },
     "execution_count": 11,
     "metadata": {},
     "output_type": "execute_result"
    }
   ],
   "source": [
    "roc_auc_score(y_test, preds)"
   ]
  },
  {
   "cell_type": "code",
   "execution_count": 8,
   "id": "99397b77",
   "metadata": {},
   "outputs": [
    {
     "data": {
      "text/plain": [
       "0.9366627065389004"
      ]
     },
     "execution_count": 8,
     "metadata": {},
     "output_type": "execute_result"
    }
   ],
   "source": [
    "roc_auc_score(y_test, preds)"
   ]
  },
  {
   "cell_type": "code",
   "execution_count": null,
   "id": "656f5dcc",
   "metadata": {},
   "outputs": [],
   "source": [
    "# model = lazyqsar.LazyBinaryClassifier(model_type = \"random_forest\")\n",
    "# model.fit(X, Y)\n",
    "# preds = model.predict_proba(X)\n",
    "# print(preds)"
   ]
  }
 ],
 "metadata": {
  "kernelspec": {
   "display_name": "lazyqsar",
   "language": "python",
   "name": "python3"
  },
  "language_info": {
   "codemirror_mode": {
    "name": "ipython",
    "version": 3
   },
   "file_extension": ".py",
   "mimetype": "text/x-python",
   "name": "python",
   "nbconvert_exporter": "python",
   "pygments_lexer": "ipython3",
   "version": "3.11.13"
  }
 },
 "nbformat": 4,
 "nbformat_minor": 5
}
