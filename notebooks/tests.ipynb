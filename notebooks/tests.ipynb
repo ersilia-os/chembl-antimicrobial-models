{
 "cells": [
  {
   "cell_type": "code",
   "execution_count": 11,
   "id": "deffcfe6",
   "metadata": {},
   "outputs": [],
   "source": [
    "from sklearn.metrics import roc_curve, auc, roc_auc_score\n",
    "from sklearn.model_selection import StratifiedKFold\n",
    "from sklearn.naive_bayes import MultinomialNB\n",
    "import pandas as pd\n",
    "import numpy as np\n",
    "import joblib\n",
    "import os\n",
    "\n",
    "# Get all pathogens i.e. {pathogen}_{target}\n",
    "PATHOGENS = sorted(os.listdir(os.path.join(\"..\", \"data\")))\n",
    "\n",
    "# Define some paths\n",
    "PATH_TO_FEATURES = os.path.join(\"..\", \"output\", \"02_features\")\n",
    "PATH_TO_OUTPUT = os.path.join(\"..\", \"output\", \"03_baseline_models\")"
   ]
  },
  {
   "cell_type": "code",
   "execution_count": 15,
   "id": "e430dbd0",
   "metadata": {},
   "outputs": [],
   "source": [
    "def NaiveBayesClassificationModel(X, Y, n_folds=5):\n",
    "\n",
    "    # Fit model with all data\n",
    "    model_all = MultinomialNB()\n",
    "    model_all.fit(X, Y)\n",
    "\n",
    "    # Cross-validations\n",
    "    skf = StratifiedKFold(n_splits=n_folds, shuffle=True, random_state=42)\n",
    "    aurocs = []\n",
    "    for train_index, test_index in skf.split(X, Y):\n",
    "        X_train, X_test = X[train_index], X[test_index]\n",
    "        y_train, y_test = Y[train_index], Y[test_index]\n",
    "        model_cv = MultinomialNB()\n",
    "        model_cv.fit(X_train, y_train)\n",
    "        fpr, tpr, _ = roc_curve(y_test, model_cv.predict_proba(X_test)[:, 1])\n",
    "        auroc = auc(fpr, tpr)\n",
    "        aurocs.append(auroc)\n",
    "\n",
    "    return model_all, [str(round(i, 4)) for i in aurocs]"
   ]
  },
  {
   "cell_type": "code",
   "execution_count": 21,
   "id": "7140fecb",
   "metadata": {},
   "outputs": [],
   "source": [
    "for pathogen in PATHOGENS:\n",
    "\n",
    "    # Get list of tasks\n",
    "    tasks = sorted(os.listdir(os.path.join(\"..\", \"data\", pathogen)))\n",
    "\n",
    "    # Get IK to MFP\n",
    "    IKs = open(os.path.join(PATH_TO_FEATURES, pathogen, 'IKS.txt')).read().splitlines()\n",
    "    MFPs = np.load(os.path.join(PATH_TO_FEATURES, pathogen, \"X.npz\"))['X']\n",
    "    IK_TO_MFP = {i: j for i, j in zip(IKs, MFPs)}\n",
    "\n",
    "    # For each task\n",
    "    for task in tasks:\n",
    "\n",
    "        # Create output_dir\n",
    "        output_dir = os.path.join(PATH_TO_OUTPUT, pathogen, task.replace(\".csv\", \"\"))\n",
    "        os.makedirs(output_dir, exist_ok=True)\n",
    "\n",
    "        # Load data\n",
    "        df = pd.read_csv(os.path.join(\"..\", \"data\", pathogen, task))\n",
    "        cols = df.columns.tolist()\n",
    "        X, Y = [], []\n",
    "        for ik, act in zip(df['inchikey'], df[cols[2]]):\n",
    "            if ik in IK_TO_MFP:\n",
    "                X.append(IK_TO_MFP[ik])\n",
    "                Y.append(act)\n",
    "\n",
    "        # To np.array\n",
    "        X = np.array(X)\n",
    "        Y = np.array(Y)\n",
    "\n",
    "        # Naive Bayes\n",
    "        NB, results_NB = NaiveBayesClassificationModel(X, Y)\n",
    "        joblib.dump(NB, os.path.join(output_dir, \"NB.joblib\"))\n",
    "        with open(os.path.join(output_dir, \"NB_CV.csv\"), \"w\") as f:\n",
    "            f.write(\",\".join(results_NB))\n",
    "\n",
    "        # Random Forest\n",
    "\n",
    "        # FLAML\n",
    "\n",
    "        break\n",
    "\n",
    "    break"
   ]
  },
  {
   "cell_type": "code",
   "execution_count": null,
   "id": "0a7293ba",
   "metadata": {},
   "outputs": [
    {
     "data": {
      "text/plain": [
       "'0.7015,0.7142,0.7052,0.6905,0.7068'"
      ]
     },
     "execution_count": 18,
     "metadata": {},
     "output_type": "execute_result"
    }
   ],
   "source": []
  },
  {
   "cell_type": "code",
   "execution_count": null,
   "id": "66d073d7",
   "metadata": {},
   "outputs": [],
   "source": []
  }
 ],
 "metadata": {
  "kernelspec": {
   "display_name": "camm",
   "language": "python",
   "name": "python3"
  },
  "language_info": {
   "codemirror_mode": {
    "name": "ipython",
    "version": 3
   },
   "file_extension": ".py",
   "mimetype": "text/x-python",
   "name": "python",
   "nbconvert_exporter": "python",
   "pygments_lexer": "ipython3",
   "version": "3.10.16"
  }
 },
 "nbformat": 4,
 "nbformat_minor": 5
}
