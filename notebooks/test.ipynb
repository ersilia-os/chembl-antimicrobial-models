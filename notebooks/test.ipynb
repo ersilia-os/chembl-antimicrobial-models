{
 "cells": [
  {
   "cell_type": "code",
   "execution_count": 31,
   "id": "45af8746",
   "metadata": {},
   "outputs": [],
   "source": [
    "from flaml.default import RandomForestClassifier as ZeroShotRandomForestClassifier\n",
    "from sklearn.metrics import roc_curve, auc, roc_auc_score\n",
    "from sklearn.calibration import CalibratedClassifierCV\n",
    "from sklearn.ensemble import RandomForestClassifier\n",
    "from sklearn.model_selection import StratifiedKFold\n",
    "from sklearn.naive_bayes import MultinomialNB\n",
    "from flaml.automl import AutoML\n",
    "from collections import Counter\n",
    "import lazyqsar as lq\n",
    "import pandas as pd\n",
    "import numpy as np\n",
    "import collections\n",
    "import joblib\n",
    "import os\n",
    "\n",
    "# Get all pathogens i.e. {pathogen}_{target}\n",
    "PATHOGENS = sorted(os.listdir(os.path.join(\"..\", \"data\")))[:1]\n",
    "\n",
    "# Define some paths\n",
    "PATH_TO_FEATURES = os.path.join(\"..\", \"output\", \"02_features\")\n",
    "PATH_TO_OUTPUT = os.path.join(\"..\", \"output\", \"03_baseline_models\")"
   ]
  },
  {
   "cell_type": "code",
   "execution_count": 37,
   "id": "4b26bde1",
   "metadata": {},
   "outputs": [
    {
     "name": "stdout",
     "output_type": "stream",
     "text": [
      "----------------------- PATHOGEN: abaumannii_organism ---------------------------\n",
      "TASK: 1_assay_CHEMBL4296188_Inhibition_percentage_activity_percentile_10_ORGANISM_1.csv\n"
     ]
    }
   ],
   "source": [
    "for pathogen in PATHOGENS:\n",
    "\n",
    "    print(f\"----------------------- PATHOGEN: {pathogen} ---------------------------\")\n",
    "\n",
    "    # Get list of tasks\n",
    "    tasks = sorted(os.listdir(os.path.join(\"..\", \"data\", pathogen)))\n",
    "\n",
    "    # # Get IK to MFP\n",
    "    # IKs = open(os.path.join(PATH_TO_FEATURES, pathogen, 'IKS.txt')).read().splitlines()\n",
    "    # MFPs = np.load(os.path.join(PATH_TO_FEATURES, pathogen, \"X.npz\"))['X']\n",
    "    # IK_TO_MFP = {i: j for i, j in zip(IKs, MFPs)}\n",
    "\n",
    "    # For each task\n",
    "    for task in tasks:\n",
    "\n",
    "        print(f\"TASK: {task}\")\n",
    "\n",
    "        # Create output_dir\n",
    "        output_dir = os.path.join(PATH_TO_OUTPUT, pathogen, task.replace(\".csv\", \"\"))\n",
    "        os.makedirs(output_dir, exist_ok=True)\n",
    "\n",
    "        # Load data\n",
    "        df = pd.read_csv(os.path.join(\"..\", \"data\", pathogen, task))\n",
    "        cols = df.columns.tolist()\n",
    "        X_smiles, Y = [], []\n",
    "        for smiles, act in zip(df['smiles'], df[cols[2]]):\n",
    "            X_smiles.append(smiles)\n",
    "            Y.append(act)\n",
    "\n",
    "        # To np.array\n",
    "        X_smiles = np.array(X_smiles)\n",
    "        Y = np.array(Y)\n",
    "\n",
    "        # Random sample\n",
    "        indices = np.random.choice(len(X_smiles), size=1000, replace=False)\n",
    "        X_smiles = X_smiles[indices]\n",
    "        Y = Y[indices]\n",
    "\n",
    "        # print(\"Training NB...\")\n",
    "\n",
    "        # # Naive Bayes\n",
    "        # NB, results_NB = NaiveBayesClassificationModel(X, Y)\n",
    "        # joblib.dump(NB, os.path.join(output_dir, \"NB.joblib\"))\n",
    "        # with open(os.path.join(output_dir, \"NB_CV.csv\"), \"w\") as f:\n",
    "        #     f.write(\",\".join(results_NB))\n",
    "\n",
    "        break\n"
   ]
  },
  {
   "cell_type": "code",
   "execution_count": null,
   "id": "2cf089b5",
   "metadata": {},
   "outputs": [],
   "source": [
    "def LazyQSAR(X_smiles, Y, n_folds=5, descriptor_type='morgan', model_type=\"xgboost\"):\n",
    "\n",
    "    # # Fit model with all data\n",
    "    # model_all = MultinomialNB()\n",
    "    # model_all.fit(X, Y)\n",
    "    model_all = -1\n",
    "\n",
    "    # Cross-validations\n",
    "    skf = StratifiedKFold(n_splits=n_folds, shuffle=True, random_state=42)\n",
    "    aurocs = []\n",
    "    for train_index, test_index in skf.split(X_smiles, Y):\n",
    "        X_train, X_test = X_smiles[train_index], X_smiles[test_index]\n",
    "        y_train, y_test = Y[train_index], Y[test_index]\n",
    "        # Available descriptors: morgan, mordred, rdkit, classic, maccs\n",
    "        # Available models: xgboost\n",
    "        model_cv = lq.LazyBinaryQSAR(descriptor_type=descriptor_type, model_type=model_type)\n",
    "        model_cv.fit(X=X_train, y=y_train)\n",
    "        # model.save_model(model_dir=\"my_model\")\n",
    "        fpr, tpr, _ = roc_curve(y_test, model_cv.predict_proba(X_test)[:, 1])\n",
    "        auroc = auc(fpr, tpr)\n",
    "        aurocs.append(auroc)\n",
    "\n",
    "    return model_all, [str(round(i, 4)) for i in aurocs]"
   ]
  },
  {
   "cell_type": "code",
   "execution_count": 42,
   "id": "7a7990c1",
   "metadata": {},
   "outputs": [],
   "source": [
    "# LazyQSAR(X_smiles, Y)"
   ]
  },
  {
   "cell_type": "code",
   "execution_count": 44,
   "id": "b1a6a68c",
   "metadata": {},
   "outputs": [
    {
     "data": {
      "text/plain": [
       "1000"
      ]
     },
     "execution_count": 44,
     "metadata": {},
     "output_type": "execute_result"
    }
   ],
   "source": [
    "len(X_smiles)"
   ]
  },
  {
   "cell_type": "code",
   "execution_count": null,
   "id": "0e48273a",
   "metadata": {},
   "outputs": [
    {
     "name": "stderr",
     "output_type": "stream",
     "text": [
      "[I 2025-05-30 12:40:25,114] A new study created in memory with name: no-name-331318eb-2dee-4015-b314-cb88923e0c2d\n"
     ]
    },
    {
     "name": "stdout",
     "output_type": "stream",
     "text": [
      "Total samples: 800, positive samples: 87, negative samples: 713\n",
      "Positive proportion: 0.11\n",
      "Sampling rounds: 1, positive samples per round: 87, negative samples per round: 713\n",
      "Desired positive proportion: 0.10875 Actual positive proportion:  0.10875\n",
      "Fitting model on 800 samples, positive samples: 87, negative samples: 713, number of features 500\n"
     ]
    },
    {
     "name": "stderr",
     "output_type": "stream",
     "text": [
      "[I 2025-05-30 12:40:28,380] Trial 0 finished with value: 0.8725740551583248 and parameters: {'booster': 'gblinear', 'lambda': 0.0006155564318973012, 'alpha': 1.77071686435378e-07, 'subsample': 0.32479561626896214, 'colsample_bytree': 0.24646688973455957}. Best is trial 0 with value: 0.8725740551583248.\n",
      "[I 2025-05-30 12:40:35,547] Trial 1 finished with value: 0.7448927477017363 and parameters: {'booster': 'gbtree', 'lambda': 1.4610865886287176e-08, 'alpha': 0.574485163632042, 'subsample': 0.8659541126403374, 'colsample_bytree': 0.36987128854262097, 'max_depth': 3, 'min_child_weight': 3, 'eta': 2.716051144654844e-06, 'gamma': 0.00015777981883364995, 'grow_policy': 'depthwise'}. Best is trial 0 with value: 0.8725740551583248.\n",
      "[I 2025-05-30 12:40:43,826] Trial 2 finished with value: 0.5 and parameters: {'booster': 'gbtree', 'lambda': 8.528933855762793e-06, 'alpha': 4.452048365748842e-05, 'subsample': 0.8281407691144109, 'colsample_bytree': 0.3597390257266878, 'max_depth': 7, 'min_child_weight': 7, 'eta': 2.3528990899815284e-08, 'gamma': 0.0007250347382396634, 'grow_policy': 'depthwise'}. Best is trial 0 with value: 0.8725740551583248.\n",
      "[I 2025-05-30 12:40:46,606] Trial 3 finished with value: 0.8759788900238338 and parameters: {'booster': 'gblinear', 'lambda': 2.734702913886802e-06, 'alpha': 6.044730070370796e-08, 'subsample': 0.7473864212097256, 'colsample_bytree': 0.5521219949916811}. Best is trial 3 with value: 0.8759788900238338.\n",
      "[I 2025-05-30 12:40:49,425] Trial 4 finished with value: 0.7963908750425605 and parameters: {'booster': 'gblinear', 'lambda': 0.1881755597772026, 'alpha': 1.1755466083160747e-06, 'subsample': 0.7300178274831857, 'colsample_bytree': 0.4493688608715288}. Best is trial 3 with value: 0.8759788900238338.\n",
      "[I 2025-05-30 12:40:52,001] Trial 5 finished with value: 0.706886278515492 and parameters: {'booster': 'gblinear', 'lambda': 0.5710537951126793, 'alpha': 0.01588775693167255, 'subsample': 0.9515991532513512, 'colsample_bytree': 0.915861880342119}. Best is trial 3 with value: 0.8759788900238338.\n",
      "[I 2025-05-30 12:40:55,163] Trial 6 finished with value: 0.8816819884235615 and parameters: {'booster': 'gblinear', 'lambda': 3.697114486625506e-07, 'alpha': 2.300479202014574e-08, 'subsample': 0.4602642646106115, 'colsample_bytree': 0.5109418317515857}. Best is trial 6 with value: 0.8816819884235615.\n",
      "[I 2025-05-30 12:40:57,508] Trial 7 finished with value: 0.7852400408580184 and parameters: {'booster': 'gblinear', 'lambda': 1.7679748286442581e-06, 'alpha': 0.0002195678075127562, 'subsample': 0.31273937997981016, 'colsample_bytree': 0.8417575846032317}. Best is trial 6 with value: 0.8816819884235615.\n",
      "[I 2025-05-30 12:40:59,825] Trial 8 finished with value: 0.8764044943820224 and parameters: {'booster': 'gblinear', 'lambda': 3.8879928024075543e-07, 'alpha': 1.1070747281639212e-08, 'subsample': 0.8523691427638673, 'colsample_bytree': 0.7654858750780937}. Best is trial 6 with value: 0.8816819884235615.\n",
      "[I 2025-05-30 12:41:02,548] Trial 9 finished with value: 0.8793837248893427 and parameters: {'booster': 'gblinear', 'lambda': 7.374385355858303e-06, 'alpha': 8.451863533931625e-08, 'subsample': 0.890482740700475, 'colsample_bytree': 0.6986385014620464}. Best is trial 6 with value: 0.8816819884235615.\n",
      "[I 2025-05-30 12:41:10,751] Trial 10 finished with value: 0.7083758937691521 and parameters: {'booster': 'dart', 'lambda': 0.0007966134267130762, 'alpha': 8.90902508491156e-06, 'subsample': 0.5150364064587563, 'colsample_bytree': 0.602024974139837, 'max_depth': 9, 'min_child_weight': 10, 'eta': 0.4631566075831914, 'gamma': 3.115037974931175e-08, 'grow_policy': 'lossguide', 'sample_type': 'weighted', 'normalize_type': 'forest', 'rate_drop': 2.590903292409896e-07, 'skip_drop': 0.017774427047318807}. Best is trial 6 with value: 0.8816819884235615.\n",
      "[I 2025-05-30 12:41:18,987] Trial 11 finished with value: 0.723953013278856 and parameters: {'booster': 'dart', 'lambda': 2.3897671043659603e-08, 'alpha': 1.1288686080842304e-08, 'subsample': 0.5638647120816158, 'colsample_bytree': 0.6959154212563782, 'max_depth': 3, 'min_child_weight': 2, 'eta': 0.3006368479724554, 'gamma': 0.8381833018218611, 'grow_policy': 'lossguide', 'sample_type': 'uniform', 'normalize_type': 'tree', 'rate_drop': 0.7662369026526858, 'skip_drop': 1.8389236496855438e-08}. Best is trial 6 with value: 0.8816819884235615.\n",
      "[I 2025-05-30 12:41:22,059] Trial 12 finished with value: 0.8788729996595165 and parameters: {'booster': 'gblinear', 'lambda': 5.129771692626495e-05, 'alpha': 8.650494304056818e-07, 'subsample': 0.42399278021624387, 'colsample_bytree': 0.5975173304631253}. Best is trial 6 with value: 0.8816819884235615.\n",
      "[I 2025-05-30 12:41:24,566] Trial 13 finished with value: 0.7495743956418114 and parameters: {'booster': 'gblinear', 'lambda': 2.1979518768896814e-07, 'alpha': 0.0014367773803692745, 'subsample': 0.21051225257424655, 'colsample_bytree': 0.9722703568523644}. Best is trial 6 with value: 0.8816819884235615.\n",
      "[I 2025-05-30 12:41:36,872] Trial 14 finished with value: 0.7196118488253319 and parameters: {'booster': 'dart', 'lambda': 3.93516652452377e-05, 'alpha': 2.657587535232622e-06, 'subsample': 0.6248992242811682, 'colsample_bytree': 0.7048303431307162, 'max_depth': 9, 'min_child_weight': 6, 'eta': 0.0002913213899168959, 'gamma': 1.990372097173514e-08, 'grow_policy': 'depthwise', 'sample_type': 'weighted', 'normalize_type': 'tree', 'rate_drop': 0.010783410912525175, 'skip_drop': 0.6845493054917579}. Best is trial 6 with value: 0.8816819884235615.\n",
      "[I 2025-05-30 12:41:42,630] Trial 15 finished with value: 0.7082482124616956 and parameters: {'booster': 'gbtree', 'lambda': 0.006554724835877386, 'alpha': 1.8889988197658425e-07, 'subsample': 0.6563903784583658, 'colsample_bytree': 0.511922642090977, 'max_depth': 5, 'min_child_weight': 10, 'eta': 0.0005019569190437929, 'gamma': 0.739236118916291, 'grow_policy': 'lossguide'}. Best is trial 6 with value: 0.8816819884235615.\n",
      "[I 2025-05-30 12:41:45,266] Trial 16 finished with value: 0.8489955737146749 and parameters: {'booster': 'gblinear', 'lambda': 5.084715813248942e-07, 'alpha': 1.542563045636931e-05, 'subsample': 0.4743407663959768, 'colsample_bytree': 0.6550840325189744}. Best is trial 6 with value: 0.8816819884235615.\n",
      "[I 2025-05-30 12:41:47,808] Trial 17 finished with value: 0.8850017024174329 and parameters: {'booster': 'gblinear', 'lambda': 8.608176737361581e-08, 'alpha': 7.830171415067413e-08, 'subsample': 0.9980853645429202, 'colsample_bytree': 0.7825581383500295}. Best is trial 17 with value: 0.8850017024174329.\n",
      "[I 2025-05-30 12:41:55,707] Trial 18 finished with value: 0.5 and parameters: {'booster': 'gbtree', 'lambda': 6.686226034766586e-08, 'alpha': 0.00040703308490450466, 'subsample': 0.4029278667800228, 'colsample_bytree': 0.8250731842993315, 'max_depth': 5, 'min_child_weight': 5, 'eta': 5.264927844442772e-08, 'gamma': 8.202065000354387e-07, 'grow_policy': 'depthwise'}. Best is trial 17 with value: 0.8850017024174329.\n",
      "[I 2025-05-30 12:42:08,299] Trial 19 finished with value: 0.6758171603677221 and parameters: {'booster': 'dart', 'lambda': 9.019724526100858e-08, 'alpha': 0.012183572429840436, 'subsample': 0.9833975791541776, 'colsample_bytree': 0.45644492468264386, 'max_depth': 7, 'min_child_weight': 7, 'eta': 0.009530697666944418, 'gamma': 0.011141893520350459, 'grow_policy': 'lossguide', 'sample_type': 'uniform', 'normalize_type': 'forest', 'rate_drop': 1.3187719250628657e-08, 'skip_drop': 5.225709772322208e-07}. Best is trial 17 with value: 0.8850017024174329.\n",
      "[I 2025-05-30 12:42:11,185] Trial 20 finished with value: 0.8811712631937351 and parameters: {'booster': 'gblinear', 'lambda': 1.2387044364130546e-08, 'alpha': 6.045838062069555e-07, 'subsample': 0.7038833847802876, 'colsample_bytree': 0.2342815897950365}. Best is trial 17 with value: 0.8850017024174329.\n",
      "[I 2025-05-30 12:42:13,824] Trial 21 finished with value: 0.8769152196118489 and parameters: {'booster': 'gblinear', 'lambda': 1.8413003585916716e-08, 'alpha': 5.214556200421243e-07, 'subsample': 0.7310966389096732, 'colsample_bytree': 0.20457946076013134}. Best is trial 17 with value: 0.8850017024174329.\n",
      "[I 2025-05-30 12:42:16,855] Trial 22 finished with value: 0.8931733060946545 and parameters: {'booster': 'gblinear', 'lambda': 1.106946065870853e-08, 'alpha': 3.3164480381598175e-08, 'subsample': 0.5765047379345875, 'colsample_bytree': 0.3066424077318727}. Best is trial 22 with value: 0.8931733060946545.\n",
      "[I 2025-05-30 12:42:19,089] Trial 23 finished with value: 0.8903643173306094 and parameters: {'booster': 'gblinear', 'lambda': 1.1831428627891486e-07, 'alpha': 3.291365455408861e-08, 'subsample': 0.5723395995404981, 'colsample_bytree': 0.33147749378354696}. Best is trial 22 with value: 0.8931733060946545.\n",
      "[I 2025-05-30 12:42:21,682] Trial 24 finished with value: 0.8961525366019748 and parameters: {'booster': 'gblinear', 'lambda': 7.864845976370901e-08, 'alpha': 4.764411502933605e-08, 'subsample': 0.5667490091461939, 'colsample_bytree': 0.30198292550607664}. Best is trial 24 with value: 0.8961525366019748.\n",
      "[I 2025-05-30 12:42:24,239] Trial 25 finished with value: 0.8713823629553966 and parameters: {'booster': 'gblinear', 'lambda': 1.3988362705087842e-06, 'alpha': 4.964490314831752e-06, 'subsample': 0.567767821291639, 'colsample_bytree': 0.3141385952359689}. Best is trial 24 with value: 0.8961525366019748.\n",
      "[I 2025-05-30 12:42:26,870] Trial 26 finished with value: 0.8830439223697651 and parameters: {'booster': 'gblinear', 'lambda': 9.157631362904553e-08, 'alpha': 3.210827374140865e-08, 'subsample': 0.5249228071758005, 'colsample_bytree': 0.31232028952993124}. Best is trial 24 with value: 0.8961525366019748.\n",
      "[I 2025-05-30 12:42:29,458] Trial 27 finished with value: 0.8861933946203608 and parameters: {'booster': 'gblinear', 'lambda': 5.610290084261826e-08, 'alpha': 2.1367752910910007e-07, 'subsample': 0.65413356166667, 'colsample_bytree': 0.30854234568698513}. Best is trial 24 with value: 0.8961525366019748.\n",
      "[I 2025-05-30 12:42:38,534] Trial 28 finished with value: 0.7364657814096015 and parameters: {'booster': 'gbtree', 'lambda': 1.0209063940067816e-05, 'alpha': 4.079964961039904e-08, 'subsample': 0.5914649317448747, 'colsample_bytree': 0.39211439167105444, 'max_depth': 9, 'min_child_weight': 4, 'eta': 4.086301629857813e-06, 'gamma': 3.412794082213063e-06, 'grow_policy': 'lossguide'}. Best is trial 24 with value: 0.8961525366019748.\n",
      "[I 2025-05-30 12:42:46,973] Trial 29 finished with value: 0.6158069458631257 and parameters: {'booster': 'dart', 'lambda': 0.0008176497000919542, 'alpha': 1.8119441558609981e-07, 'subsample': 0.39895433640955436, 'colsample_bytree': 0.43333314007419693, 'max_depth': 5, 'min_child_weight': 8, 'eta': 2.2235081610153697e-06, 'gamma': 0.004528224823783957, 'grow_policy': 'depthwise', 'sample_type': 'uniform', 'normalize_type': 'forest', 'rate_drop': 3.3411173042347415e-05, 'skip_drop': 0.00010063563215859037}. Best is trial 24 with value: 0.8961525366019748.\n",
      "[I 2025-05-30 12:42:49,558] Trial 30 finished with value: 0.5 and parameters: {'booster': 'gblinear', 'lambda': 1.0295270045407911e-06, 'alpha': 0.7614861005853649, 'subsample': 0.32510527693012675, 'colsample_bytree': 0.27888656327665245}. Best is trial 24 with value: 0.8961525366019748.\n",
      "[I 2025-05-30 12:42:51,791] Trial 31 finished with value: 0.8704460333673817 and parameters: {'booster': 'gblinear', 'lambda': 4.879435066724195e-08, 'alpha': 2.6309499102303957e-07, 'subsample': 0.6851067692211434, 'colsample_bytree': 0.27654534362968863}. Best is trial 24 with value: 0.8961525366019748.\n",
      "[I 2025-05-30 12:42:54,987] Trial 32 finished with value: 0.899812734082397 and parameters: {'booster': 'gblinear', 'lambda': 1.0794474733890906e-08, 'alpha': 1.1014757130536027e-08, 'subsample': 0.7842611242723787, 'colsample_bytree': 0.34282143521717906}. Best is trial 32 with value: 0.899812734082397.\n",
      "[I 2025-05-30 12:42:57,136] Trial 33 finished with value: 0.8766598569969357 and parameters: {'booster': 'gblinear', 'lambda': 1.0119283963332902e-08, 'alpha': 1.1282483140807465e-08, 'subsample': 0.8039872735000633, 'colsample_bytree': 0.39023400637637007}. Best is trial 32 with value: 0.899812734082397.\n",
      "[I 2025-05-30 12:42:59,288] Trial 34 finished with value: 0.8888321416411306 and parameters: {'booster': 'gblinear', 'lambda': 2.3950307734303155e-07, 'alpha': 6.039478325685698e-08, 'subsample': 0.6184711746716363, 'colsample_bytree': 0.35844642271851973}. Best is trial 32 with value: 0.899812734082397.\n",
      "[I 2025-05-30 12:43:12,258] Trial 35 finished with value: 0.7362104187946885 and parameters: {'booster': 'gbtree', 'lambda': 2.8874625717327045e-08, 'alpha': 2.452716431689916e-05, 'subsample': 0.7896485627617458, 'colsample_bytree': 0.22791017359230065, 'max_depth': 7, 'min_child_weight': 2, 'eta': 0.012691731583532942, 'gamma': 6.967832689114211e-06, 'grow_policy': 'lossguide'}. Best is trial 32 with value: 0.899812734082397.\n",
      "[I 2025-05-30 12:43:14,705] Trial 36 finished with value: 0.8814266258086483 and parameters: {'booster': 'gblinear', 'lambda': 1.0065607871917011e-08, 'alpha': 2.43198848842996e-06, 'subsample': 0.52616486612641, 'colsample_bytree': 0.3526831673351696}. Best is trial 32 with value: 0.899812734082397.\n",
      "[I 2025-05-30 12:43:17,340] Trial 37 finished with value: 0.8364828055839292 and parameters: {'booster': 'gblinear', 'lambda': 0.031341588118540216, 'alpha': 2.616098550782897e-08, 'subsample': 0.7713302396508506, 'colsample_bytree': 0.4250430344514245}. Best is trial 32 with value: 0.899812734082397.\n",
      "[I 2025-05-30 12:43:19,889] Trial 38 finished with value: 0.8766598569969357 and parameters: {'booster': 'gblinear', 'lambda': 1.4983320267624462e-07, 'alpha': 1.0573088069459016e-07, 'subsample': 0.4709426907102323, 'colsample_bytree': 0.2704894140888369}. Best is trial 32 with value: 0.899812734082397.\n",
      "[I 2025-05-30 12:43:22,799] Trial 39 finished with value: 0.8814266258086483 and parameters: {'booster': 'gblinear', 'lambda': 7.44265381942757e-07, 'alpha': 2.3779964791991188e-08, 'subsample': 0.9191589641230835, 'colsample_bytree': 0.5011580844681698}. Best is trial 32 with value: 0.899812734082397.\n",
      "[I 2025-05-30 12:43:27,801] Trial 40 finished with value: 0.7042900919305414 and parameters: {'booster': 'gbtree', 'lambda': 2.4762672993757747e-06, 'alpha': 0.14970325928114284, 'subsample': 0.5769570209737936, 'colsample_bytree': 0.3339655096417969, 'max_depth': 3, 'min_child_weight': 9, 'eta': 3.425884513083741e-05, 'gamma': 0.05747821283215226, 'grow_policy': 'depthwise'}. Best is trial 32 with value: 0.899812734082397.\n",
      "[I 2025-05-30 12:43:30,646] Trial 41 finished with value: 0.8861082737487233 and parameters: {'booster': 'gblinear', 'lambda': 2.8989163730358227e-08, 'alpha': 6.427656470321425e-08, 'subsample': 0.6243154561754815, 'colsample_bytree': 0.3898006335865689}. Best is trial 32 with value: 0.899812734082397.\n",
      "[I 2025-05-30 12:43:33,244] Trial 42 finished with value: 0.8861933946203608 and parameters: {'booster': 'gblinear', 'lambda': 2.4800835822016894e-07, 'alpha': 3.667810824184618e-07, 'subsample': 0.6198716404622759, 'colsample_bytree': 0.35686467253818777}. Best is trial 32 with value: 0.899812734082397.\n",
      "[I 2025-05-30 12:43:35,936] Trial 43 finished with value: 0.8801498127340824 and parameters: {'booster': 'gblinear', 'lambda': 4.261920312799507e-06, 'alpha': 5.021644558035026e-08, 'subsample': 0.6911430169198072, 'colsample_bytree': 0.4715186970639198}. Best is trial 32 with value: 0.899812734082397.\n",
      "[I 2025-05-30 12:43:38,675] Trial 44 finished with value: 0.8947054817841334 and parameters: {'booster': 'gblinear', 'lambda': 3.227279855773949e-08, 'alpha': 1.0845902681468668e-08, 'subsample': 0.5451821556085553, 'colsample_bytree': 0.26358368091175893}. Best is trial 32 with value: 0.899812734082397.\n",
      "[I 2025-05-30 12:43:41,236] Trial 45 finished with value: 0.8907048008171605 and parameters: {'booster': 'gblinear', 'lambda': 2.8387044792286748e-08, 'alpha': 1.0005334635056852e-08, 'subsample': 0.5355825356008315, 'colsample_bytree': 0.20223134962296935}. Best is trial 32 with value: 0.899812734082397.\n",
      "[I 2025-05-30 12:43:43,551] Trial 46 finished with value: 0.8853421859039837 and parameters: {'booster': 'gblinear', 'lambda': 3.5736797840186435e-08, 'alpha': 1.719008788166695e-08, 'subsample': 0.5046949231734108, 'colsample_bytree': 0.21095825061094142}. Best is trial 32 with value: 0.899812734082397.\n",
      "[I 2025-05-30 12:43:52,175] Trial 47 finished with value: 0.7216547497446374 and parameters: {'booster': 'dart', 'lambda': 2.0837307792881312e-08, 'alpha': 1.2751837211856246e-08, 'subsample': 0.4274731593657347, 'colsample_bytree': 0.25641720220100106, 'max_depth': 5, 'min_child_weight': 5, 'eta': 2.022734787152613e-07, 'gamma': 3.17367083761203e-07, 'grow_policy': 'depthwise', 'sample_type': 'weighted', 'normalize_type': 'tree', 'rate_drop': 5.6851579219180386e-05, 'skip_drop': 8.961540204691317e-05}. Best is trial 32 with value: 0.899812734082397.\n",
      "[I 2025-05-30 12:43:54,275] Trial 48 finished with value: 0.879639087504256 and parameters: {'booster': 'gblinear', 'lambda': 3.376022271363592e-08, 'alpha': 1.4083292019179227e-06, 'subsample': 0.5343726255731192, 'colsample_bytree': 0.2442841147178586}. Best is trial 32 with value: 0.899812734082397.\n",
      "[I 2025-05-30 12:43:56,508] Trial 49 finished with value: 0.8854273067756214 and parameters: {'booster': 'gblinear', 'lambda': 3.8366356608325233e-07, 'alpha': 1.1707224305643313e-07, 'subsample': 0.4887973791595592, 'colsample_bytree': 0.290859330950673}. Best is trial 32 with value: 0.899812734082397.\n",
      "[I 2025-05-30 12:43:58,776] Trial 50 finished with value: 0.847378277153558 and parameters: {'booster': 'gblinear', 'lambda': 0.00016967639198083265, 'alpha': 0.00010569394129345812, 'subsample': 0.6543662255775217, 'colsample_bytree': 0.20934269531213137}. Best is trial 32 with value: 0.899812734082397.\n",
      "[I 2025-05-30 12:44:00,817] Trial 51 finished with value: 0.8798944501191692 and parameters: {'booster': 'gblinear', 'lambda': 1.134344225877967e-07, 'alpha': 2.70509588374303e-08, 'subsample': 0.540380724540015, 'colsample_bytree': 0.32667122651903485}. Best is trial 32 with value: 0.899812734082397.\n",
      "[I 2025-05-30 12:44:02,851] Trial 52 finished with value: 0.8890875042560435 and parameters: {'booster': 'gblinear', 'lambda': 1.5764398808620875e-07, 'alpha': 1.242604894698232e-08, 'subsample': 0.4477990348063955, 'colsample_bytree': 0.25561747345016284}. Best is trial 32 with value: 0.899812734082397.\n",
      "[I 2025-05-30 12:44:05,591] Trial 53 finished with value: 0.8867041198501874 and parameters: {'booster': 'gblinear', 'lambda': 1.9355076697441365e-08, 'alpha': 3.865372564885899e-08, 'subsample': 0.5726596939847325, 'colsample_bytree': 0.29883323763240816}. Best is trial 32 with value: 0.899812734082397.\n",
      "[I 2025-05-30 12:44:07,627] Trial 54 finished with value: 0.8854273067756214 and parameters: {'booster': 'gblinear', 'lambda': 5.791374594578929e-08, 'alpha': 1.0400507359605922e-08, 'subsample': 0.35315247305464537, 'colsample_bytree': 0.3884934712309315}. Best is trial 32 with value: 0.899812734082397.\n",
      "[I 2025-05-30 12:44:10,018] Trial 55 finished with value: 0.8896833503575076 and parameters: {'booster': 'gblinear', 'lambda': 1.1056527832172815e-08, 'alpha': 1.359326764763571e-07, 'subsample': 0.5967124774843179, 'colsample_bytree': 0.419514585820082}. Best is trial 32 with value: 0.899812734082397.\n",
      "[I 2025-05-30 12:44:17,693] Trial 56 finished with value: 0.704417773237998 and parameters: {'booster': 'dart', 'lambda': 6.091831468980932e-07, 'alpha': 2.7603356281136737e-08, 'subsample': 0.560986068041285, 'colsample_bytree': 0.24273471714551262, 'max_depth': 7, 'min_child_weight': 8, 'eta': 0.011124013401422182, 'gamma': 5.4815240107186584e-05, 'grow_policy': 'lossguide', 'sample_type': 'uniform', 'normalize_type': 'forest', 'rate_drop': 0.00548404495454572, 'skip_drop': 9.7531381373639e-05}. Best is trial 32 with value: 0.899812734082397.\n",
      "[I 2025-05-30 12:44:19,908] Trial 57 finished with value: 0.890789921688798 and parameters: {'booster': 'gblinear', 'lambda': 4.301061459464608e-08, 'alpha': 7.46152620019356e-08, 'subsample': 0.4885129997167872, 'colsample_bytree': 0.5447835593060133}. Best is trial 32 with value: 0.899812734082397.\n",
      "[I 2025-05-30 12:44:21,899] Trial 58 finished with value: 0.88210759278175 and parameters: {'booster': 'gblinear', 'lambda': 4.077411701688269e-08, 'alpha': 8.234042770759087e-08, 'subsample': 0.2337025160538173, 'colsample_bytree': 0.574229321596875}. Best is trial 32 with value: 0.899812734082397.\n",
      "[I 2025-05-30 12:44:27,307] Trial 59 finished with value: 0.7493615934627171 and parameters: {'booster': 'gbtree', 'lambda': 1.8534309938100002e-08, 'alpha': 4.1112668982218615e-07, 'subsample': 0.500177783519821, 'colsample_bytree': 0.738431848111333, 'max_depth': 3, 'min_child_weight': 4, 'eta': 0.001552137858412412, 'gamma': 2.9181009079377994e-05, 'grow_policy': 'depthwise'}. Best is trial 32 with value: 0.899812734082397.\n",
      "[I 2025-05-30 12:44:29,586] Trial 60 finished with value: 0.7568947906026559 and parameters: {'booster': 'gblinear', 'lambda': 0.4864450851125666, 'alpha': 0.001514002171743684, 'subsample': 0.43751701644892665, 'colsample_bytree': 0.5440163047198499}. Best is trial 32 with value: 0.899812734082397.\n",
      "[I 2025-05-30 12:44:32,009] Trial 61 finished with value: 0.886789240721825 and parameters: {'booster': 'gblinear', 'lambda': 9.532947477302652e-08, 'alpha': 1.7794881647049256e-08, 'subsample': 0.5482202002930765, 'colsample_bytree': 0.33719799152316887}. Best is trial 32 with value: 0.899812734082397.\n",
      "[I 2025-05-30 12:44:34,081] Trial 62 finished with value: 0.8943649982975824 and parameters: {'booster': 'gblinear', 'lambda': 5.627457979784896e-08, 'alpha': 5.054832351026964e-08, 'subsample': 0.48187654707331556, 'colsample_bytree': 0.9096377495143331}. Best is trial 32 with value: 0.899812734082397.\n",
      "[I 2025-05-30 12:44:36,639] Trial 63 finished with value: 0.885597548518897 and parameters: {'booster': 'gblinear', 'lambda': 2.6011477149654126e-07, 'alpha': 5.8849623259338046e-08, 'subsample': 0.3885545936193654, 'colsample_bytree': 0.9790688563200522}. Best is trial 32 with value: 0.899812734082397.\n",
      "[I 2025-05-30 12:44:38,905] Trial 64 finished with value: 0.8766598569969357 and parameters: {'booster': 'gblinear', 'lambda': 5.834253404861465e-08, 'alpha': 9.215068373164972e-07, 'subsample': 0.47037900634167595, 'colsample_bytree': 0.9214659585549281}. Best is trial 32 with value: 0.899812734082397.\n",
      "[I 2025-05-30 12:44:41,311] Trial 65 finished with value: 0.890534559073885 and parameters: {'booster': 'gblinear', 'lambda': 1.792696614746781e-08, 'alpha': 2.507612673977181e-07, 'subsample': 0.5075288625503129, 'colsample_bytree': 0.8960100498175765}. Best is trial 32 with value: 0.899812734082397.\n",
      "[I 2025-05-30 12:44:43,844] Trial 66 finished with value: 0.8719782090568607 and parameters: {'booster': 'gblinear', 'lambda': 3.865044246652732e-08, 'alpha': 1.4666318763012143e-07, 'subsample': 0.3736610280973109, 'colsample_bytree': 0.6434047938616465}. Best is trial 32 with value: 0.899812734082397.\n",
      "[I 2025-05-30 12:44:53,076] Trial 67 finished with value: 0.721144024514811 and parameters: {'booster': 'dart', 'lambda': 1.5082066761883344e-07, 'alpha': 1.8827568731679854e-08, 'subsample': 0.6039567131349785, 'colsample_bytree': 0.8328699720900631, 'max_depth': 9, 'min_child_weight': 6, 'eta': 2.060966923328955e-05, 'gamma': 1.8177304383851626e-07, 'grow_policy': 'lossguide', 'sample_type': 'weighted', 'normalize_type': 'tree', 'rate_drop': 9.934364206003215e-07, 'skip_drop': 0.7534298970433615}. Best is trial 32 with value: 0.899812734082397.\n",
      "[I 2025-05-30 12:44:55,649] Trial 68 finished with value: 0.8925774599931904 and parameters: {'booster': 'gblinear', 'lambda': 7.528316317529434e-08, 'alpha': 4.1324495819844846e-08, 'subsample': 0.8359414012414038, 'colsample_bytree': 0.6587409008769286}. Best is trial 32 with value: 0.899812734082397.\n",
      "[I 2025-05-30 12:44:58,319] Trial 69 finished with value: 0.8795539666326183 and parameters: {'booster': 'gblinear', 'lambda': 1.1540510640650996e-05, 'alpha': 4.770233175518611e-08, 'subsample': 0.8729046389493401, 'colsample_bytree': 0.6563086515052047}. Best is trial 32 with value: 0.899812734082397.\n",
      "[I 2025-05-30 12:45:06,927] Trial 70 finished with value: 0.7298263534218591 and parameters: {'booster': 'gbtree', 'lambda': 0.005235561461207363, 'alpha': 9.157342546037563e-08, 'subsample': 0.817081089199341, 'colsample_bytree': 0.8116418038576636, 'max_depth': 5, 'min_child_weight': 3, 'eta': 2.667408717719076e-07, 'gamma': 0.034141931594743276, 'grow_policy': 'depthwise'}. Best is trial 32 with value: 0.899812734082397.\n",
      "[I 2025-05-30 12:45:08,979] Trial 71 finished with value: 0.8850017024174329 and parameters: {'booster': 'gblinear', 'lambda': 1.788093857216289e-08, 'alpha': 1.9265861634524372e-08, 'subsample': 0.7572992915162811, 'colsample_bytree': 0.8743997124336348}. Best is trial 32 with value: 0.899812734082397.\n",
      "[I 2025-05-30 12:45:11,275] Trial 72 finished with value: 0.8914708886618999 and parameters: {'booster': 'gblinear', 'lambda': 7.203710068239435e-08, 'alpha': 3.0351985379228136e-08, 'subsample': 0.8553594443070772, 'colsample_bytree': 0.7333639215819034}. Best is trial 32 with value: 0.899812734082397.\n",
      "[I 2025-05-30 12:45:13,334] Trial 73 finished with value: 0.895471569628873 and parameters: {'booster': 'gblinear', 'lambda': 7.217693753665519e-08, 'alpha': 4.628078711943203e-08, 'subsample': 0.8556345030055292, 'colsample_bytree': 0.7408412089723551}. Best is trial 32 with value: 0.899812734082397.\n",
      "[I 2025-05-30 12:45:15,695] Trial 74 finished with value: 0.8839802519577799 and parameters: {'booster': 'gblinear', 'lambda': 3.326544334013878e-07, 'alpha': 4.024345995217799e-08, 'subsample': 0.912549269821176, 'colsample_bytree': 0.6794335054798449}. Best is trial 32 with value: 0.899812734082397.\n",
      "[I 2025-05-30 12:45:18,268] Trial 75 finished with value: 0.8866189989785496 and parameters: {'booster': 'gblinear', 'lambda': 6.979115835899441e-08, 'alpha': 1.8676812730601416e-07, 'subsample': 0.8391135934655269, 'colsample_bytree': 0.7242604099773287}. Best is trial 32 with value: 0.899812734082397.\n",
      "[I 2025-05-30 12:45:20,411] Trial 76 finished with value: 0.886789240721825 and parameters: {'booster': 'gblinear', 'lambda': 1.5931336860612437e-07, 'alpha': 3.371813254436521e-08, 'subsample': 0.9561144973566887, 'colsample_bytree': 0.7722914663812901}. Best is trial 32 with value: 0.899812734082397.\n",
      "[I 2025-05-30 12:45:23,255] Trial 77 finished with value: 0.8834695267279536 and parameters: {'booster': 'gblinear', 'lambda': 7.92290323162453e-08, 'alpha': 5.734472990744562e-07, 'subsample': 0.8798410015940066, 'colsample_bytree': 0.8020268086527272}. Best is trial 32 with value: 0.899812734082397.\n",
      "[I 2025-05-30 12:45:26,017] Trial 78 finished with value: 0.8807456588355466 and parameters: {'booster': 'gblinear', 'lambda': 6.627880257790588e-07, 'alpha': 3.71355598438552e-07, 'subsample': 0.8530655829364154, 'colsample_bytree': 0.7442210995876701}. Best is trial 32 with value: 0.899812734082397.\n",
      "[I 2025-05-30 12:45:28,325] Trial 79 finished with value: 0.8799795709908068 and parameters: {'booster': 'gblinear', 'lambda': 1.0911886269561035e-06, 'alpha': 2.128847252330354e-08, 'subsample': 0.7811286240563063, 'colsample_bytree': 0.6123411259994679}. Best is trial 32 with value: 0.899812734082397.\n",
      "[I 2025-05-30 12:45:30,668] Trial 80 finished with value: 0.5 and parameters: {'booster': 'gblinear', 'lambda': 1.279087799213555e-08, 'alpha': 0.20967163319490345, 'subsample': 0.9021428640412408, 'colsample_bytree': 0.691097077681299}. Best is trial 32 with value: 0.899812734082397.\n",
      "[I 2025-05-30 12:45:33,346] Trial 81 finished with value: 0.8946203609124957 and parameters: {'booster': 'gblinear', 'lambda': 6.045481001521065e-08, 'alpha': 8.152204472614392e-08, 'subsample': 0.9322958116418334, 'colsample_bytree': 0.6109320948971348}. Best is trial 32 with value: 0.899812734082397.\n",
      "[I 2025-05-30 12:45:36,007] Trial 82 finished with value: 0.8895131086142323 and parameters: {'booster': 'gblinear', 'lambda': 2.6016520101933877e-08, 'alpha': 1.2176637384661574e-07, 'subsample': 0.9266616153822451, 'colsample_bytree': 0.6225857158075038}. Best is trial 32 with value: 0.899812734082397.\n",
      "[I 2025-05-30 12:45:38,595] Trial 83 finished with value: 0.8866189989785497 and parameters: {'booster': 'gblinear', 'lambda': 1.9343903073680386e-07, 'alpha': 5.62937721031227e-08, 'subsample': 0.8569177343158957, 'colsample_bytree': 0.5727368718160172}. Best is trial 32 with value: 0.899812734082397.\n",
      "[I 2025-05-30 12:45:40,885] Trial 84 finished with value: 0.8827885597548519 and parameters: {'booster': 'gblinear', 'lambda': 9.865956009625815e-08, 'alpha': 1.63136569682114e-08, 'subsample': 0.9633404831052852, 'colsample_bytree': 0.9499213788613226}. Best is trial 32 with value: 0.899812734082397.\n",
      "[I 2025-05-30 12:45:42,970] Trial 85 finished with value: 0.8946203609124957 and parameters: {'booster': 'gblinear', 'lambda': 1.0188362552611067e-08, 'alpha': 2.9854185258361645e-08, 'subsample': 0.8252721442093489, 'colsample_bytree': 0.8552047592165102}. Best is trial 32 with value: 0.899812734082397.\n",
      "[I 2025-05-30 12:45:49,581] Trial 86 finished with value: 0.7544688457609806 and parameters: {'booster': 'dart', 'lambda': 1.0433969551685775e-08, 'alpha': 8.294766488422007e-08, 'subsample': 0.7209187682736921, 'colsample_bytree': 0.8633842802667875, 'max_depth': 7, 'min_child_weight': 9, 'eta': 0.11363961516333125, 'gamma': 0.0009229966788504694, 'grow_policy': 'lossguide', 'sample_type': 'weighted', 'normalize_type': 'tree', 'rate_drop': 0.7907942862488486, 'skip_drop': 5.312797329181771e-07}. Best is trial 32 with value: 0.899812734082397.\n",
      "[I 2025-05-30 12:45:51,667] Trial 87 finished with value: 0.8909601634320735 and parameters: {'booster': 'gblinear', 'lambda': 2.6805599377871933e-08, 'alpha': 2.784518770998021e-07, 'subsample': 0.8165664938196784, 'colsample_bytree': 0.9958276601479137}. Best is trial 32 with value: 0.899812734082397.\n",
      "[I 2025-05-30 12:45:57,501] Trial 88 finished with value: 0.7189734422880489 and parameters: {'booster': 'gbtree', 'lambda': 1.4813400601372607e-08, 'alpha': 1.5189724146815702e-08, 'subsample': 0.8357645990632483, 'colsample_bytree': 0.9424152691869839, 'max_depth': 3, 'min_child_weight': 6, 'eta': 0.07138116355105134, 'gamma': 0.0002843234917903201, 'grow_policy': 'lossguide'}. Best is trial 32 with value: 0.899812734082397.\n",
      "[I 2025-05-30 12:45:59,658] Trial 89 finished with value: 0.8912155260469867 and parameters: {'booster': 'gblinear', 'lambda': 4.119810701097549e-08, 'alpha': 4.5830820129745765e-08, 'subsample': 0.9375397501189408, 'colsample_bytree': 0.6592992671590068}. Best is trial 32 with value: 0.899812734082397.\n",
      "[I 2025-05-30 12:46:01,913] Trial 90 finished with value: 0.88772557030984 and parameters: {'booster': 'gblinear', 'lambda': 4.3101399931842557e-07, 'alpha': 1.0072643755604068e-08, 'subsample': 0.8897526880438589, 'colsample_bytree': 0.8509318311045779}. Best is trial 32 with value: 0.899812734082397.\n",
      "[I 2025-05-30 12:46:05,078] Trial 91 finished with value: 0.8900238338440586 and parameters: {'booster': 'gblinear', 'lambda': 5.8178311095150424e-08, 'alpha': 2.384114512170237e-08, 'subsample': 0.7967739297408617, 'colsample_bytree': 0.7114383141876807}. Best is trial 32 with value: 0.899812734082397.\n",
      "[I 2025-05-30 12:46:07,945] Trial 92 finished with value: 0.8801498127340824 and parameters: {'booster': 'gblinear', 'lambda': 2.7722571708042952e-08, 'alpha': 3.5562482371251106e-08, 'subsample': 0.747620258621469, 'colsample_bytree': 0.7520765628290991}. Best is trial 32 with value: 0.899812734082397.\n",
      "[I 2025-05-30 12:46:10,871] Trial 93 finished with value: 0.8861082737487233 and parameters: {'booster': 'gblinear', 'lambda': 1.1432475121774062e-07, 'alpha': 3.0663018047331216e-08, 'subsample': 0.9923857055508889, 'colsample_bytree': 0.8016111423763698}. Best is trial 32 with value: 0.899812734082397.\n",
      "[I 2025-05-30 12:46:13,236] Trial 94 finished with value: 0.8832141641130405 and parameters: {'booster': 'gblinear', 'lambda': 1.5393700300875406e-08, 'alpha': 1.5163324411467717e-07, 'subsample': 0.8640891808695048, 'colsample_bytree': 0.6296206481057525}. Best is trial 32 with value: 0.899812734082397.\n",
      "[I 2025-05-30 12:46:15,995] Trial 95 finished with value: 0.8761491317671094 and parameters: {'booster': 'gblinear', 'lambda': 6.68818872196091e-08, 'alpha': 6.53088114962936e-08, 'subsample': 0.9024119027806956, 'colsample_bytree': 0.5922865128927006}. Best is trial 32 with value: 0.899812734082397.\n",
      "[I 2025-05-30 12:46:18,929] Trial 96 finished with value: 0.8710418794688457 and parameters: {'booster': 'gblinear', 'lambda': 2.0259112740614767e-05, 'alpha': 1.0515166390976841e-07, 'subsample': 0.8178569962643671, 'colsample_bytree': 0.2885191162958622}. Best is trial 32 with value: 0.899812734082397.\n",
      "[I 2025-05-30 12:46:22,090] Trial 97 finished with value: 0.8715526046986722 and parameters: {'booster': 'gblinear', 'lambda': 0.000332465658065606, 'alpha': 2.3633450495516172e-08, 'subsample': 0.6391494195740252, 'colsample_bytree': 0.6718506683889693}. Best is trial 32 with value: 0.899812734082397.\n",
      "[I 2025-05-30 12:46:24,948] Trial 98 finished with value: 0.8583588695948247 and parameters: {'booster': 'gblinear', 'lambda': 4.691274804686241e-08, 'alpha': 9.53057633024895e-06, 'subsample': 0.834985192408719, 'colsample_bytree': 0.9081598645466588}. Best is trial 32 with value: 0.899812734082397.\n",
      "[I 2025-05-30 12:46:27,984] Trial 99 finished with value: 0.6976506639427988 and parameters: {'booster': 'gblinear', 'lambda': 2.8409017469608495e-07, 'alpha': 0.003894553938347942, 'subsample': 0.5507328304549393, 'colsample_bytree': 0.7119431614902659}. Best is trial 32 with value: 0.899812734082397.\n",
      "[I 2025-05-30 12:46:39,329] Trial 100 finished with value: 0.5 and parameters: {'booster': 'dart', 'lambda': 2.3536462333558135e-08, 'alpha': 1.3486100398434373e-08, 'subsample': 0.9700436305486705, 'colsample_bytree': 0.2711771772802904, 'max_depth': 9, 'min_child_weight': 9, 'eta': 1.0252054730869238e-08, 'gamma': 0.16133879685688413, 'grow_policy': 'depthwise', 'sample_type': 'uniform', 'normalize_type': 'forest', 'rate_drop': 0.0033472602812377444, 'skip_drop': 0.006023220594096971}. Best is trial 32 with value: 0.899812734082397.\n",
      "[I 2025-05-30 12:46:41,929] Trial 101 finished with value: 0.8842356145726932 and parameters: {'booster': 'gblinear', 'lambda': 3.185079440175594e-08, 'alpha': 4.208252978490777e-08, 'subsample': 0.770930885411922, 'colsample_bytree': 0.6566649202030235}. Best is trial 32 with value: 0.899812734082397.\n",
      "[I 2025-05-30 12:46:44,244] Trial 102 finished with value: 0.8878958120531154 and parameters: {'booster': 'gblinear', 'lambda': 4.4195599532180427e-08, 'alpha': 5.319114701121567e-08, 'subsample': 0.9345660839049742, 'colsample_bytree': 0.5169830625540639}. Best is trial 32 with value: 0.899812734082397.\n",
      "[I 2025-05-30 12:46:46,823] Trial 103 finished with value: 0.8938542730677561 and parameters: {'booster': 'gblinear', 'lambda': 1.1271140542056396e-07, 'alpha': 3.1722108781435764e-08, 'subsample': 0.9404692726530075, 'colsample_bytree': 0.2263718986930984}. Best is trial 32 with value: 0.899812734082397.\n",
      "[I 2025-05-30 12:46:49,556] Trial 104 finished with value: 0.8898535921007831 and parameters: {'booster': 'gblinear', 'lambda': 1.2454043932415962e-07, 'alpha': 3.0119565565065246e-08, 'subsample': 0.5876417170214931, 'colsample_bytree': 0.31434939973158854}. Best is trial 32 with value: 0.899812734082397.\n",
      "[I 2025-05-30 12:46:52,527] Trial 105 finished with value: 0.8209056860742253 and parameters: {'booster': 'gblinear', 'lambda': 1.9913143322425305e-07, 'alpha': 5.321657689223158e-05, 'subsample': 0.9399390790265122, 'colsample_bytree': 0.26593555557421894}. Best is trial 32 with value: 0.899812734082397.\n",
      "[I 2025-05-30 12:46:55,291] Trial 106 finished with value: 0.8908750425604358 and parameters: {'booster': 'gblinear', 'lambda': 8.631986162592729e-08, 'alpha': 1.7160229673649257e-08, 'subsample': 0.6782211787274182, 'colsample_bytree': 0.37123305628845094}. Best is trial 32 with value: 0.899812734082397.\n",
      "[I 2025-05-30 12:46:58,084] Trial 107 finished with value: 0.8897684712291453 and parameters: {'booster': 'gblinear', 'lambda': 1.6888849239335437e-08, 'alpha': 7.084091606159309e-08, 'subsample': 0.5190383434408378, 'colsample_bytree': 0.889248560885523}. Best is trial 32 with value: 0.899812734082397.\n",
      "[I 2025-05-30 12:47:07,166] Trial 108 finished with value: 0.6616445352400409 and parameters: {'booster': 'gbtree', 'lambda': 1.1120462607132772e-08, 'alpha': 1.7073981028168907e-07, 'subsample': 0.8848767478911392, 'colsample_bytree': 0.21684129047225792, 'max_depth': 5, 'min_child_weight': 4, 'eta': 3.352717145005363e-07, 'gamma': 8.775989543598061e-06, 'grow_policy': 'depthwise'}. Best is trial 32 with value: 0.899812734082397.\n",
      "[I 2025-05-30 12:47:09,715] Trial 109 finished with value: 0.8869594824651005 and parameters: {'booster': 'gblinear', 'lambda': 7.466485633633978e-08, 'alpha': 9.460101237412629e-08, 'subsample': 0.9799673759903796, 'colsample_bytree': 0.30143394233488435}. Best is trial 32 with value: 0.899812734082397.\n",
      "[I 2025-05-30 12:47:12,549] Trial 110 finished with value: 0.8860231528770854 and parameters: {'booster': 'gblinear', 'lambda': 2.2422240432225085e-08, 'alpha': 1.4040772407269238e-08, 'subsample': 0.8473316404903302, 'colsample_bytree': 0.23398039366445045}. Best is trial 32 with value: 0.899812734082397.\n",
      "[I 2025-05-30 12:47:15,034] Trial 111 finished with value: 0.8778515491998639 and parameters: {'booster': 'gblinear', 'lambda': 4.0666866128492754e-08, 'alpha': 3.967628840053106e-08, 'subsample': 0.9496500662525329, 'colsample_bytree': 0.6434908063101692}. Best is trial 32 with value: 0.899812734082397.\n",
      "[I 2025-05-30 12:47:18,045] Trial 112 finished with value: 0.8861082737487233 and parameters: {'booster': 'gblinear', 'lambda': 3.4841120825999656e-08, 'alpha': 2.0825855695265926e-08, 'subsample': 0.9005006744228539, 'colsample_bytree': 0.6781973010409373}. Best is trial 32 with value: 0.899812734082397.\n",
      "[I 2025-05-30 12:47:20,541] Trial 113 finished with value: 0.8862785154919987 and parameters: {'booster': 'gblinear', 'lambda': 4.82273765851411e-08, 'alpha': 4.792692626953892e-08, 'subsample': 0.9166105861655942, 'colsample_bytree': 0.2536129255392734}. Best is trial 32 with value: 0.899812734082397.\n",
      "[I 2025-05-30 12:47:23,315] Trial 114 finished with value: 0.8872148450800137 and parameters: {'booster': 'gblinear', 'lambda': 1.5826873899708004e-07, 'alpha': 2.8489118449252027e-08, 'subsample': 0.8615787936473848, 'colsample_bytree': 0.5974434783520377}. Best is trial 32 with value: 0.899812734082397.\n",
      "[I 2025-05-30 12:47:26,019] Trial 115 finished with value: 0.7738338440585631 and parameters: {'booster': 'gblinear', 'lambda': 5.95104095325914e-08, 'alpha': 0.00039986073860386853, 'subsample': 0.807599696916866, 'colsample_bytree': 0.5754928134757835}. Best is trial 32 with value: 0.899812734082397.\n",
      "[I 2025-05-30 12:47:28,499] Trial 116 finished with value: 0.8869594824651005 and parameters: {'booster': 'gblinear', 'lambda': 1.460350039452582e-08, 'alpha': 1.045298609882096e-08, 'subsample': 0.946064195073319, 'colsample_bytree': 0.7306804772216282}. Best is trial 32 with value: 0.899812734082397.\n",
      "[I 2025-05-30 12:47:30,876] Trial 117 finished with value: 0.8865338781069118 and parameters: {'booster': 'gblinear', 'lambda': 1.1294800662655281e-07, 'alpha': 6.19348991758897e-08, 'subsample': 0.6083356188042761, 'colsample_bytree': 0.7651294431320951}. Best is trial 32 with value: 0.899812734082397.\n",
      "[I 2025-05-30 12:47:33,477] Trial 118 finished with value: 0.8848314606741573 and parameters: {'booster': 'gblinear', 'lambda': 2.4467240532311897e-08, 'alpha': 2.2189297886063544e-07, 'subsample': 0.8731928991715194, 'colsample_bytree': 0.3427390275495605}. Best is trial 32 with value: 0.899812734082397.\n",
      "[I 2025-05-30 12:47:35,946] Trial 119 finished with value: 0.8872999659516513 and parameters: {'booster': 'gblinear', 'lambda': 7.899619839270427e-08, 'alpha': 1.2604721030396295e-07, 'subsample': 0.9258795143056481, 'colsample_bytree': 0.3173945514589868}. Best is trial 32 with value: 0.899812734082397.\n",
      "[I 2025-05-30 12:47:38,551] Trial 120 finished with value: 0.8826183180115764 and parameters: {'booster': 'gblinear', 'lambda': 2.0660671239886906e-07, 'alpha': 4.1513386857937795e-08, 'subsample': 0.4515159408559988, 'colsample_bytree': 0.2241627976177562}. Best is trial 32 with value: 0.899812734082397.\n",
      "[I 2025-05-30 12:47:41,376] Trial 121 finished with value: 0.8812563840653729 and parameters: {'booster': 'gblinear', 'lambda': 1.0025116348527399e-08, 'alpha': 2.824272671983218e-07, 'subsample': 0.781170882447808, 'colsample_bytree': 0.9621331045158223}. Best is trial 32 with value: 0.899812734082397.\n",
      "[I 2025-05-30 12:47:43,744] Trial 122 finished with value: 0.8921518556350017 and parameters: {'booster': 'gblinear', 'lambda': 3.044887148828348e-08, 'alpha': 8.332449689159891e-08, 'subsample': 0.8284931925862584, 'colsample_bytree': 0.9204306005525509}. Best is trial 32 with value: 0.899812734082397.\n",
      "[I 2025-05-30 12:47:46,106] Trial 123 finished with value: 0.890534559073885 and parameters: {'booster': 'gblinear', 'lambda': 1.861441611831688e-08, 'alpha': 2.3428777468239207e-08, 'subsample': 0.8193946115158167, 'colsample_bytree': 0.8484230635487653}. Best is trial 32 with value: 0.899812734082397.\n",
      "[I 2025-05-30 12:47:48,456] Trial 124 finished with value: 0.8767449778685733 and parameters: {'booster': 'gblinear', 'lambda': 0.0029623253258397337, 'alpha': 5.317319350279174e-08, 'subsample': 0.8407594077537672, 'colsample_bytree': 0.9146677944593765}. Best is trial 32 with value: 0.899812734082397.\n",
      "[I 2025-05-30 12:47:50,929] Trial 125 finished with value: 0.8792986040177051 and parameters: {'booster': 'gblinear', 'lambda': 3.8167792246338186e-08, 'alpha': 8.487748315551814e-08, 'subsample': 0.5802206841930686, 'colsample_bytree': 0.8807972335794407}. Best is trial 32 with value: 0.899812734082397.\n",
      "[I 2025-05-30 12:48:02,920] Trial 126 finished with value: 0.6982890704800817 and parameters: {'booster': 'dart', 'lambda': 5.934827869752668e-08, 'alpha': 1.508219769503015e-08, 'subsample': 0.7967692911500086, 'colsample_bytree': 0.6962240749896025, 'max_depth': 7, 'min_child_weight': 7, 'eta': 0.00010933593051851465, 'gamma': 0.0036714372641837973, 'grow_policy': 'lossguide', 'sample_type': 'uniform', 'normalize_type': 'forest', 'rate_drop': 2.3729390634951963e-06, 'skip_drop': 2.4835818878689066e-06}. Best is trial 32 with value: 0.899812734082397.\n",
      "[I 2025-05-30 12:48:05,476] Trial 127 finished with value: 0.8897684712291453 and parameters: {'booster': 'gblinear', 'lambda': 2.982475701032392e-08, 'alpha': 2.9693481535320456e-08, 'subsample': 0.8901062584739556, 'colsample_bytree': 0.6365364951188619}. Best is trial 32 with value: 0.899812734082397.\n",
      "[I 2025-05-30 12:48:08,415] Trial 128 finished with value: 0.8040517534899557 and parameters: {'booster': 'gblinear', 'lambda': 0.13593322524552887, 'alpha': 9.884626518542548e-08, 'subsample': 0.4934320871367369, 'colsample_bytree': 0.9313542572389545}. Best is trial 32 with value: 0.899812734082397.\n",
      "[I 2025-05-30 12:48:15,552] Trial 129 finished with value: 0.6899897854954035 and parameters: {'booster': 'gbtree', 'lambda': 1.4859145530941921e-08, 'alpha': 4.173212693697341e-08, 'subsample': 0.5638771876743365, 'colsample_bytree': 0.7834618126241208, 'max_depth': 3, 'min_child_weight': 3, 'eta': 0.8409626412761351, 'gamma': 1.0178183255380236e-08, 'grow_policy': 'lossguide'}. Best is trial 32 with value: 0.899812734082397.\n",
      "[I 2025-05-30 12:48:18,353] Trial 130 finished with value: 0.8786176370446034 and parameters: {'booster': 'gblinear', 'lambda': 8.972039245250034e-08, 'alpha': 1.0022803220154988e-08, 'subsample': 0.9060539160558341, 'colsample_bytree': 0.6581851684242106}. Best is trial 32 with value: 0.899812734082397.\n",
      "[I 2025-05-30 12:48:20,721] Trial 131 finished with value: 0.8906196799455226 and parameters: {'booster': 'gblinear', 'lambda': 2.438071478526396e-08, 'alpha': 2.1065153707970115e-08, 'subsample': 0.8244734920309718, 'colsample_bytree': 0.9870322766852191}. Best is trial 32 with value: 0.899812734082397.\n",
      "[I 2025-05-30 12:48:23,251] Trial 132 finished with value: 0.8834695267279535 and parameters: {'booster': 'gblinear', 'lambda': 3.399961896689286e-08, 'alpha': 6.748996719026715e-08, 'subsample': 0.7675429693705423, 'colsample_bytree': 0.9944681298736618}. Best is trial 32 with value: 0.899812734082397.\n",
      "[I 2025-05-30 12:48:26,196] Trial 133 finished with value: 0.8895131086142323 and parameters: {'booster': 'gblinear', 'lambda': 5.485078950325221e-08, 'alpha': 1.1938947899031926e-07, 'subsample': 0.7327807025704064, 'colsample_bytree': 0.9613070162529427}. Best is trial 32 with value: 0.899812734082397.\n",
      "[I 2025-05-30 12:48:28,769] Trial 134 finished with value: 0.8835546475995913 and parameters: {'booster': 'gblinear', 'lambda': 2.1099838966274876e-08, 'alpha': 3.249215600992662e-08, 'subsample': 0.8062873381107988, 'colsample_bytree': 0.9313580097942498}. Best is trial 32 with value: 0.899812734082397.\n",
      "[I 2025-05-30 12:48:31,603] Trial 135 finished with value: 0.8823629553966633 and parameters: {'booster': 'gblinear', 'lambda': 1.2140131360841129e-07, 'alpha': 2.886337897277197e-07, 'subsample': 0.8547858502668352, 'colsample_bytree': 0.8180500043872327}. Best is trial 32 with value: 0.899812734082397.\n",
      "[I 2025-05-30 12:48:34,391] Trial 136 finished with value: 0.8852570650323459 and parameters: {'booster': 'gblinear', 'lambda': 4.4567009618946745e-08, 'alpha': 1.7073831564431314e-08, 'subsample': 0.8764052359156, 'colsample_bytree': 0.28258989670401136}. Best is trial 32 with value: 0.899812734082397.\n",
      "[I 2025-05-30 12:48:36,861] Trial 137 finished with value: 0.8939393939393939 and parameters: {'booster': 'gblinear', 'lambda': 1.0054512868866214e-08, 'alpha': 1.7556966491268907e-07, 'subsample': 0.8282956956368921, 'colsample_bytree': 0.8929208084773023}. Best is trial 32 with value: 0.899812734082397.\n",
      "[I 2025-05-30 12:48:38,964] Trial 138 finished with value: 0.8936840313244808 and parameters: {'booster': 'gblinear', 'lambda': 1.0661375142120827e-08, 'alpha': 1.5451250520492917e-07, 'subsample': 0.8298509919255344, 'colsample_bytree': 0.9124644036350933}. Best is trial 32 with value: 0.899812734082397.\n",
      "[I 2025-05-30 12:48:41,652] Trial 139 finished with value: 0.8838951310861423 and parameters: {'booster': 'gblinear', 'lambda': 1.0165906827974009e-08, 'alpha': 1.3350253441434558e-06, 'subsample': 0.8321981788277965, 'colsample_bytree': 0.863736236917505}. Best is trial 32 with value: 0.899812734082397.\n",
      "[I 2025-05-30 12:48:44,389] Trial 140 finished with value: 0.8835546475995915 and parameters: {'booster': 'gblinear', 'lambda': 1.4346617828844953e-08, 'alpha': 1.7995290851281525e-07, 'subsample': 0.798119930556466, 'colsample_bytree': 0.9003718527249815}. Best is trial 32 with value: 0.899812734082397.\n",
      "[I 2025-05-30 12:48:47,295] Trial 141 finished with value: 0.8885767790262172 and parameters: {'booster': 'gblinear', 'lambda': 1.4514902536323057e-08, 'alpha': 7.465055491302384e-08, 'subsample': 0.8669382734657398, 'colsample_bytree': 0.9256387434864434}. Best is trial 32 with value: 0.899812734082397.\n",
      "[I 2025-05-30 12:48:50,017] Trial 142 finished with value: 0.8851719441607081 and parameters: {'booster': 'gblinear', 'lambda': 1.884639123018671e-08, 'alpha': 5.056078873333141e-08, 'subsample': 0.5511370871290245, 'colsample_bytree': 0.6147897775272445}. Best is trial 32 with value: 0.899812734082397.\n",
      "[I 2025-05-30 12:48:53,003] Trial 143 finished with value: 0.8860231528770854 and parameters: {'booster': 'gblinear', 'lambda': 2.8134550716485482e-08, 'alpha': 2.7291227594509836e-08, 'subsample': 0.9692119742186036, 'colsample_bytree': 0.8896666672744407}. Best is trial 32 with value: 0.899812734082397.\n",
      "[I 2025-05-30 12:48:55,484] Trial 144 finished with value: 0.8765747361252979 and parameters: {'booster': 'gblinear', 'lambda': 7.776939050202588e-05, 'alpha': 1.0049766017301437e-07, 'subsample': 0.8452596336714254, 'colsample_bytree': 0.8764119511574531}. Best is trial 32 with value: 0.899812734082397.\n",
      "[I 2025-05-30 12:48:58,451] Trial 145 finished with value: 0.7374872318692544 and parameters: {'booster': 'gblinear', 'lambda': 1.0375597830779815e-08, 'alpha': 0.01997100823821355, 'subsample': 0.7855858486003299, 'colsample_bytree': 0.9003512967764898}. Best is trial 32 with value: 0.899812734082397.\n",
      "[I 2025-05-30 12:49:01,345] Trial 146 finished with value: 0.8857677902621722 and parameters: {'booster': 'gblinear', 'lambda': 7.35399167872247e-08, 'alpha': 5.398160335771758e-07, 'subsample': 0.8318323250416723, 'colsample_bytree': 0.861823156922072}. Best is trial 32 with value: 0.899812734082397.\n",
      "[I 2025-05-30 12:49:04,703] Trial 147 finished with value: 0.8667007150153218 and parameters: {'booster': 'gblinear', 'lambda': 3.4637409120591607e-08, 'alpha': 3.306301342674881e-06, 'subsample': 0.5275991923936217, 'colsample_bytree': 0.9444728665288776}. Best is trial 32 with value: 0.899812734082397.\n",
      "[I 2025-05-30 12:49:17,077] Trial 148 finished with value: 0.7365934627170582 and parameters: {'booster': 'dart', 'lambda': 1.8658527725797098e-08, 'alpha': 1.436787196599352e-07, 'subsample': 0.6387686703628196, 'colsample_bytree': 0.8406006411653126, 'max_depth': 9, 'min_child_weight': 5, 'eta': 0.0022756003968277495, 'gamma': 1.2018570559633094e-07, 'grow_policy': 'depthwise', 'sample_type': 'weighted', 'normalize_type': 'tree', 'rate_drop': 2.55371310536557e-08, 'skip_drop': 1.751493114207077e-08}. Best is trial 32 with value: 0.899812734082397.\n",
      "[I 2025-05-30 12:49:19,515] Trial 149 finished with value: 0.8953013278855976 and parameters: {'booster': 'gblinear', 'lambda': 1.3697502903419806e-08, 'alpha': 3.8392352365680664e-08, 'subsample': 0.928548250994457, 'colsample_bytree': 0.9140739784251092}. Best is trial 32 with value: 0.899812734082397.\n",
      "[I 2025-05-30 12:49:21,617] Trial 150 finished with value: 0.8787027579162411 and parameters: {'booster': 'gblinear', 'lambda': 1.5174032285516907e-08, 'alpha': 2.0101494976500412e-08, 'subsample': 0.8561302026481497, 'colsample_bytree': 0.9664839765850892}. Best is trial 32 with value: 0.899812734082397.\n",
      "[I 2025-05-30 12:49:24,235] Trial 151 finished with value: 0.884320735444331 and parameters: {'booster': 'gblinear', 'lambda': 2.3074371177352018e-08, 'alpha': 4.2254242924605244e-08, 'subsample': 0.933284357927646, 'colsample_bytree': 0.9145222572630273}. Best is trial 32 with value: 0.899812734082397.\n",
      "[I 2025-05-30 12:49:26,528] Trial 152 finished with value: 0.8788729996595164 and parameters: {'booster': 'gblinear', 'lambda': 5.0206398233984395e-08, 'alpha': 6.228275282023516e-08, 'subsample': 0.9571002622638889, 'colsample_bytree': 0.24526641664742554}. Best is trial 32 with value: 0.899812734082397.\n",
      "[I 2025-05-30 12:49:29,661] Trial 153 finished with value: 0.8868743615934628 and parameters: {'booster': 'gblinear', 'lambda': 1.3304140116790547e-08, 'alpha': 3.184286301638052e-08, 'subsample': 0.9986510193802458, 'colsample_bytree': 0.9471777622706209}. Best is trial 32 with value: 0.899812734082397.\n",
      "[I 2025-05-30 12:49:32,905] Trial 154 finished with value: 0.8841504937010556 and parameters: {'booster': 'gblinear', 'lambda': 3.512701970855907e-08, 'alpha': 1.5292176460558715e-08, 'subsample': 0.913256228808635, 'colsample_bytree': 0.29500414955526183}. Best is trial 32 with value: 0.899812734082397.\n",
      "[I 2025-05-30 12:49:35,478] Trial 155 finished with value: 0.8891726251276814 and parameters: {'booster': 'gblinear', 'lambda': 2.1939886354342396e-08, 'alpha': 7.821927128051738e-08, 'subsample': 0.8909626546009592, 'colsample_bytree': 0.6696447264048012}. Best is trial 32 with value: 0.899812734082397.\n",
      "[I 2025-05-30 12:49:37,718] Trial 156 finished with value: 0.8835546475995915 and parameters: {'booster': 'gblinear', 'lambda': 1.3267148562418752e-07, 'alpha': 4.8244542057654746e-08, 'subsample': 0.8148118448197419, 'colsample_bytree': 0.9007130786798194}. Best is trial 32 with value: 0.899812734082397.\n",
      "[I 2025-05-30 12:49:40,185] Trial 157 finished with value: 0.8805754170922709 and parameters: {'booster': 'gblinear', 'lambda': 1.0411676850898703e-08, 'alpha': 2.5593947469466562e-08, 'subsample': 0.9755476114840085, 'colsample_bytree': 0.9278324931008267}. Best is trial 32 with value: 0.899812734082397.\n",
      "[I 2025-05-30 12:49:47,110] Trial 158 finished with value: 0.7099080694586313 and parameters: {'booster': 'gbtree', 'lambda': 8.865081489336816e-08, 'alpha': 3.5599427634415925e-08, 'subsample': 0.9262658419999059, 'colsample_bytree': 0.4692842960744727, 'max_depth': 7, 'min_child_weight': 8, 'eta': 1.3862539486989697e-05, 'gamma': 1.2776741344957288e-06, 'grow_policy': 'depthwise'}. Best is trial 32 with value: 0.899812734082397.\n",
      "[I 2025-05-30 12:49:49,356] Trial 159 finished with value: 0.8721484508001361 and parameters: {'booster': 'gblinear', 'lambda': 4.889351256330121e-06, 'alpha': 1.4108174819288994e-08, 'subsample': 0.5964307747035209, 'colsample_bytree': 0.5535831556974012}. Best is trial 32 with value: 0.899812734082397.\n",
      "[I 2025-05-30 12:49:51,691] Trial 160 finished with value: 0.8840653728294178 and parameters: {'booster': 'gblinear', 'lambda': 4.79660742148644e-08, 'alpha': 1.8634990469552233e-07, 'subsample': 0.8747850335437605, 'colsample_bytree': 0.2601290728453078}. Best is trial 32 with value: 0.899812734082397.\n",
      "[I 2025-05-30 12:49:54,335] Trial 161 finished with value: 0.8962376574736126 and parameters: {'booster': 'gblinear', 'lambda': 2.954423069745371e-08, 'alpha': 3.357852307232136e-07, 'subsample': 0.8186234317878366, 'colsample_bytree': 0.939936106542984}. Best is trial 32 with value: 0.899812734082397.\n",
      "[I 2025-05-30 12:49:56,519] Trial 162 finished with value: 0.8838100102145047 and parameters: {'booster': 'gblinear', 'lambda': 2.423922249003078e-08, 'alpha': 1.2431732336182325e-07, 'subsample': 0.41721470450253323, 'colsample_bytree': 0.9108180003997689}. Best is trial 32 with value: 0.899812734082397.\n",
      "[I 2025-05-30 12:49:58,799] Trial 163 finished with value: 0.8864487572352742 and parameters: {'booster': 'gblinear', 'lambda': 3.297018389860673e-08, 'alpha': 6.357899140072849e-08, 'subsample': 0.8290442591097625, 'colsample_bytree': 0.7138277226020937}. Best is trial 32 with value: 0.899812734082397.\n",
      "[I 2025-05-30 12:50:01,801] Trial 164 finished with value: 0.8773408239700374 and parameters: {'booster': 'gblinear', 'lambda': 6.72836540843265e-08, 'alpha': 7.631598205457051e-07, 'subsample': 0.7938321483403286, 'colsample_bytree': 0.8820895929982118}. Best is trial 32 with value: 0.899812734082397.\n",
      "[I 2025-05-30 12:50:04,339] Trial 165 finished with value: 0.8902791964589718 and parameters: {'booster': 'gblinear', 'lambda': 1.4922329689002297e-08, 'alpha': 8.50659143998569e-08, 'subsample': 0.7591910312462289, 'colsample_bytree': 0.9420561550011523}. Best is trial 32 with value: 0.899812734082397.\n",
      "[I 2025-05-30 12:50:07,258] Trial 166 finished with value: 0.8882362955396664 and parameters: {'booster': 'gblinear', 'lambda': 4.293336156481621e-08, 'alpha': 3.7971956123143837e-07, 'subsample': 0.8455622158801412, 'colsample_bytree': 0.3234357421904708}. Best is trial 32 with value: 0.899812734082397.\n",
      "[I 2025-05-30 12:50:09,981] Trial 167 finished with value: 0.8845760980592442 and parameters: {'booster': 'gblinear', 'lambda': 1.7878204908923595e-08, 'alpha': 4.4747186954167464e-08, 'subsample': 0.9447039843253778, 'colsample_bytree': 0.7876760456012236}. Best is trial 32 with value: 0.899812734082397.\n",
      "[I 2025-05-30 12:50:12,269] Trial 168 finished with value: 0.8864487572352742 and parameters: {'booster': 'gblinear', 'lambda': 1.008171505428533e-08, 'alpha': 2.2125215608417864e-08, 'subsample': 0.4711136245772447, 'colsample_bytree': 0.7596241327804582}. Best is trial 32 with value: 0.899812734082397.\n",
      "[I 2025-05-30 12:50:14,539] Trial 169 finished with value: 0.8850868232890705 and parameters: {'booster': 'gblinear', 'lambda': 6.41585216834227e-08, 'alpha': 2.1124360851904817e-07, 'subsample': 0.8047502233444072, 'colsample_bytree': 0.28130773989225966}. Best is trial 32 with value: 0.899812734082397.\n",
      "[I 2025-05-30 12:50:17,291] Trial 170 finished with value: 0.8881511746680286 and parameters: {'booster': 'gblinear', 'lambda': 1.074782052263052e-07, 'alpha': 3.582718498177362e-08, 'subsample': 0.896101467676386, 'colsample_bytree': 0.6935572572515646}. Best is trial 32 with value: 0.899812734082397.\n",
      "[I 2025-05-30 12:50:19,912] Trial 171 finished with value: 0.8873850868232891 and parameters: {'booster': 'gblinear', 'lambda': 2.648368709557617e-08, 'alpha': 3.333941659654502e-07, 'subsample': 0.8218675874236872, 'colsample_bytree': 0.9772577580359364}. Best is trial 32 with value: 0.899812734082397.\n",
      "[I 2025-05-30 12:50:22,875] Trial 172 finished with value: 0.8855975485188968 and parameters: {'booster': 'gblinear', 'lambda': 3.053625500337052e-08, 'alpha': 1.4248173534937495e-07, 'subsample': 0.8168722457804157, 'colsample_bytree': 0.9316219360020718}. Best is trial 32 with value: 0.899812734082397.\n",
      "[I 2025-05-30 12:50:25,682] Trial 173 finished with value: 0.8884916581545795 and parameters: {'booster': 'gblinear', 'lambda': 2.1063831312943335e-08, 'alpha': 5.7505145245470685e-08, 'subsample': 0.8652719242498035, 'colsample_bytree': 0.9481411451513124}. Best is trial 32 with value: 0.899812734082397.\n"
     ]
    },
    {
     "name": "stdout",
     "output_type": "stream",
     "text": [
      "Model fitted.\n"
     ]
    },
    {
     "ename": "AttributeError",
     "evalue": "'LazyBinaryQSAR' object has no attribute 'predict_proba'",
     "output_type": "error",
     "traceback": [
      "\u001b[0;31m---------------------------------------------------------------------------\u001b[0m",
      "\u001b[0;31mAttributeError\u001b[0m                            Traceback (most recent call last)",
      "Cell \u001b[0;32mIn[45], line 12\u001b[0m\n\u001b[1;32m     10\u001b[0m model_cv\u001b[38;5;241m.\u001b[39mfit(X\u001b[38;5;241m=\u001b[39mX_train, y\u001b[38;5;241m=\u001b[39my_train)\n\u001b[1;32m     11\u001b[0m \u001b[38;5;66;03m# model.save_model(model_dir=\"my_model\")\u001b[39;00m\n\u001b[0;32m---> 12\u001b[0m fpr, tpr, _ \u001b[38;5;241m=\u001b[39m roc_curve(y_test, \u001b[43mmodel_cv\u001b[49m\u001b[38;5;241;43m.\u001b[39;49m\u001b[43mpredict_proba\u001b[49m(X_test)[:, \u001b[38;5;241m1\u001b[39m])\n\u001b[1;32m     13\u001b[0m auroc \u001b[38;5;241m=\u001b[39m auc(fpr, tpr)\n\u001b[1;32m     14\u001b[0m aurocs\u001b[38;5;241m.\u001b[39mappend(auroc)\n",
      "\u001b[0;31mAttributeError\u001b[0m: 'LazyBinaryQSAR' object has no attribute 'predict_proba'"
     ]
    }
   ],
   "source": [
    "# Cross-validations\n",
    "skf = StratifiedKFold(n_splits=5, shuffle=True, random_state=42)\n",
    "aurocs = []\n",
    "for train_index, test_index in skf.split(X_smiles, Y):\n",
    "    X_train, X_test = X_smiles[train_index], X_smiles[test_index]\n",
    "    y_train, y_test = Y[train_index], Y[test_index]\n",
    "    # Available descriptors: morgan, mordred, rdkit, classic, maccs\n",
    "    # Available models: xgboost\n",
    "    model_cv = lq.LazyBinaryQSAR(descriptor_type='morgan', model_type=\"xgboost\")\n",
    "    model_cv.fit(X=X_train, y=y_train)\n",
    "    # model.save_model(model_dir=\"my_model\")\n",
    "    fpr, tpr, _ = roc_curve(y_test, model_cv.predict_proba(X_test)[:, 1])\n",
    "    auroc = auc(fpr, tpr)\n",
    "    aurocs.append(auroc)"
   ]
  },
  {
   "cell_type": "code",
   "execution_count": 55,
   "id": "dd252241",
   "metadata": {},
   "outputs": [
    {
     "name": "stdout",
     "output_type": "stream",
     "text": [
      "Predicting chunk of size: 200\n"
     ]
    }
   ],
   "source": [
    "a = model_cv.predict(X_test)"
   ]
  },
  {
   "cell_type": "code",
   "execution_count": 59,
   "id": "5540cb03",
   "metadata": {},
   "outputs": [
    {
     "data": {
      "text/plain": [
       "(200,)"
      ]
     },
     "execution_count": 59,
     "metadata": {},
     "output_type": "execute_result"
    }
   ],
   "source": [
    "X_test.shape"
   ]
  },
  {
   "cell_type": "code",
   "execution_count": 60,
   "id": "ed489f71",
   "metadata": {},
   "outputs": [
    {
     "name": "stdout",
     "output_type": "stream",
     "text": [
      "[ 0.2314853  -0.0862231  -0.4197334  -0.3009096  -0.10511956 -0.00630671\n",
      " -0.16804348  0.5398228   0.22565044  0.11570578  0.06156326 -0.12521943\n",
      " -0.06170792  0.6926501   0.23784302  0.4113321  -0.02983759  0.1632947\n",
      " -0.11111438  0.12008161  0.39614773 -0.3524479   0.00710342  0.11333106\n",
      " -0.0750165   0.1475558   0.6779315   0.24491045 -0.00718679  0.22270526\n",
      "  0.23729686  0.10788529  0.18090928 -0.22303812  0.13810569  0.2442018\n",
      "  0.25730193  0.07344029  0.10805137 -0.19030558  0.4024185  -0.08053929\n",
      " -0.090104    0.28182003  0.49532464 -0.03928961  0.5734352   0.2106027\n",
      "  0.03829022  2.9436882   0.27894974  0.58591497  0.81749815 -0.18575706\n",
      "  0.00336445  0.18219715  0.13996355  0.26889938  0.5150548  -0.07058168\n",
      "  0.14287047  0.02768525  0.3822545   0.12296981 -0.10659203 -0.10124943\n",
      "  0.33155262  0.6759873  -0.2637986   0.5330967   0.10283295  0.01646838\n",
      "  0.3252213   0.1260298   0.19794358  0.15615746  0.05478663  0.02477241\n",
      "  0.593806   -0.09436278  0.17958385  0.2061103   0.3760897   0.07999273\n",
      " -0.05041654 -0.1752544   0.03029893  0.37181833  0.31193084  0.47775316\n",
      " -0.34814036  0.3318943   0.11671533  0.6158864   0.26241583  0.06062331\n",
      "  0.3099331   0.8067045  -0.05598427 -0.02329728  0.26781428  0.1168854\n",
      "  0.35112074  0.24154758  0.09359908  0.14556248 -0.06662358 -0.13582909\n",
      "  0.37943798  0.23442121  0.11454332  0.20418864  0.4645782   0.2886604\n",
      "  0.25434956 -0.14382637  0.10669379  0.13278474  0.24706262 -0.17730735\n",
      " -0.0886502   0.09249064 -0.14534622  0.16103849  0.21034925  0.2822908\n",
      " -0.19107781 -0.03577304 -0.13765469 -0.04463134  0.3645086   0.18744552\n",
      "  0.1738298  -0.06743863 -0.10621167  0.0145581  -0.00332203 -0.11818144\n",
      "  1.0629511   0.14568505  0.08641057  0.67350644  0.38524562  0.27070364\n",
      " -0.11172462 -0.38175374  0.25822294 -0.12308473 -0.00511568 -0.1686182\n",
      "  0.18197456  0.05750705  0.22898921  0.7559029   0.25858557  0.18550754\n",
      "  0.08910492  0.6858562   0.12688541 -0.01788434  0.38137227  0.37305367\n",
      "  0.35292274  0.47503883 -0.14373346  0.11327373  0.30966884  0.4315796\n",
      "  1.1803508   0.15954669  0.84277415  0.00865977  0.06099696 -0.35156554\n",
      "  0.00859865 -0.03935858 -0.25047898 -0.11814464  0.15081137  0.05939975\n",
      "  0.54264563  0.77794874  0.16750374 -0.08609261  0.07982739  0.08985665\n",
      " -0.15372244  0.1430708   0.61666036  0.7846048  -0.18615618  0.17491625\n",
      "  0.33766177  0.17940451  0.4256543   0.50389963  0.25142422  0.37982157\n",
      "  0.20056096 -0.10839643]\n"
     ]
    }
   ],
   "source": [
    "print(a)"
   ]
  }
 ],
 "metadata": {
  "kernelspec": {
   "display_name": "camm",
   "language": "python",
   "name": "python3"
  },
  "language_info": {
   "codemirror_mode": {
    "name": "ipython",
    "version": 3
   },
   "file_extension": ".py",
   "mimetype": "text/x-python",
   "name": "python",
   "nbconvert_exporter": "python",
   "pygments_lexer": "ipython3",
   "version": "3.10.16"
  }
 },
 "nbformat": 4,
 "nbformat_minor": 5
}
