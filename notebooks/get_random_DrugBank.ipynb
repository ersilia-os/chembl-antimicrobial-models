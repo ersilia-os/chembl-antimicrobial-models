{
 "cells": [
  {
   "cell_type": "code",
   "execution_count": 9,
   "id": "3712668c",
   "metadata": {},
   "outputs": [],
   "source": [
    "from rdkit.Chem import rdFingerprintGenerator\n",
    "from rdkit import Chem\n",
    "import pandas as pd\n",
    "import os"
   ]
  },
  {
   "cell_type": "code",
   "execution_count": 19,
   "id": "d31b63b8",
   "metadata": {},
   "outputs": [
    {
     "name": "stderr",
     "output_type": "stream",
     "text": [
      "[16:58:27] Explicit valence for atom # 13 Be, 3, is greater than permitted\n",
      "[16:58:27] Explicit valence for atom # 19 O, 3, is greater than permitted\n",
      "[16:58:27] Explicit valence for atom # 4 F, 2, is greater than permitted\n",
      "[16:58:27] Explicit valence for atom # 13 Cl, 5, is greater than permitted\n",
      "[16:58:28] Explicit valence for atom # 1 Cl, 4, is greater than permitted\n",
      "[16:58:28] SMILES Parse Error: syntax error while parsing: OC1=CC=CC(=C1)C-1=C2\\CCC(=N2)\\C(=C2/N\\C(\\C=C2)=C(/C2=N/C(/C=C2)=C(\\C2=CC=C\\-1N2)C1=CC(O)=CC=C1)C1=CC(O)=CC=C1)\\C1=CC(O)=CC=C1\n",
      "[16:58:28] SMILES Parse Error: Failed parsing SMILES 'OC1=CC=CC(=C1)C-1=C2\\CCC(=N2)\\C(=C2/N\\C(\\C=C2)=C(/C2=N/C(/C=C2)=C(\\C2=CC=C\\-1N2)C1=CC(O)=CC=C1)C1=CC(O)=CC=C1)\\C1=CC(O)=CC=C1' for input: 'OC1=CC=CC(=C1)C-1=C2\\CCC(=N2)\\C(=C2/N\\C(\\C=C2)=C(/C2=N/C(/C=C2)=C(\\C2=CC=C\\-1N2)C1=CC(O)=CC=C1)C1=CC(O)=CC=C1)\\C1=CC(O)=CC=C1'\n",
      "[16:58:28] SMILES Parse Error: syntax error while parsing: OS(O)(O)C1=CC=C(C=C1)C-1=C2\\C=CC(=N2)\\C(=C2/N\\C(\\C=C2)=C(/C2=N/C(/C=C2)=C(\\C2=CC=C\\-1N2)C1=CC=C(C=C1)S(O)(O)O)C1=CC=C(C=C1)S([O-])([O-])[O-])\\C1=CC=C(C=C1)S(O)(O)[O-]\n",
      "[16:58:28] SMILES Parse Error: Failed parsing SMILES 'OS(O)(O)C1=CC=C(C=C1)C-1=C2\\C=CC(=N2)\\C(=C2/N\\C(\\C=C2)=C(/C2=N/C(/C=C2)=C(\\C2=CC=C\\-1N2)C1=CC=C(C=C1)S(O)(O)O)C1=CC=C(C=C1)S([O-])([O-])[O-])\\C1=CC=C(C=C1)S(O)(O)[O-]' for input: 'OS(O)(O)C1=CC=C(C=C1)C-1=C2\\C=CC(=N2)\\C(=C2/N\\C(\\C=C2)=C(/C2=N/C(/C=C2)=C(\\C2=CC=C\\-1N2)C1=CC=C(C=C1)S(O)(O)O)C1=CC=C(C=C1)S([O-])([O-])[O-])\\C1=CC=C(C=C1)S(O)(O)[O-]'\n",
      "[16:58:28] Explicit valence for atom # 1 B, 6, is greater than permitted\n",
      "[16:58:28] Explicit valence for atom # 84 N, 4, is greater than permitted\n",
      "[16:58:28] WARNING: not removing hydrogen atom without neighbors\n",
      "[16:58:28] WARNING: not removing hydrogen atom without neighbors\n",
      "[16:58:28] Explicit valence for atom # 0 O, 3, is greater than permitted\n",
      "[16:58:28] Unusual charge on atom 0 number of radical electrons set to zero\n"
     ]
    }
   ],
   "source": [
    "# Get original DrugBank SMILES\n",
    "drugbank_smiles = pd.read_csv(os.path.join(\"../other/DrugBank/drugbank_smiles.csv\"))['Smiles'].tolist()\n",
    "drugbank_smiles = sorted(drugbank_smiles)\n",
    "SMILES = ['smiles']\n",
    "\n",
    "# Check which SMILES are valid and generate fingerprints\n",
    "mfpgen = rdFingerprintGenerator.GetMorganGenerator(radius=3, fpSize=2048)\n",
    "for smiles in drugbank_smiles:\n",
    "    try:\n",
    "        mol = Chem.MolFromSmiles(smiles)\n",
    "        mfp = mfpgen.GetCountFingerprint(mol).ToList()\n",
    "        SMILES.append(smiles)\n",
    "    except:\n",
    "        pass\n",
    "\n",
    "with open(os.path.join(\"../other/models/model_example/framework/examples/run_input.csv\"), \"w\") as f:\n",
    "    f.write(\"\\n\".join(SMILES))"
   ]
  }
 ],
 "metadata": {
  "kernelspec": {
   "display_name": "camm",
   "language": "python",
   "name": "python3"
  },
  "language_info": {
   "codemirror_mode": {
    "name": "ipython",
    "version": 3
   },
   "file_extension": ".py",
   "mimetype": "text/x-python",
   "name": "python",
   "nbconvert_exporter": "python",
   "pygments_lexer": "ipython3",
   "version": "3.10.16"
  }
 },
 "nbformat": 4,
 "nbformat_minor": 5
}
