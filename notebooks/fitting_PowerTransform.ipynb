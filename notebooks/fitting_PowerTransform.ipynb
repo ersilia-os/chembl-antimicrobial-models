{
 "cells": [
  {
   "cell_type": "code",
   "execution_count": 2,
   "id": "df65b370",
   "metadata": {},
   "outputs": [
    {
     "name": "stdout",
     "output_type": "stream",
     "text": [
      "Reading ChEMBL data...\n",
      "2496335 processed compounds\n",
      "Selecting only small molecules...\n",
      "1915466 selected small molecules\n",
      "Subsampling 10000 small molecules...\n",
      "Calculating Morgan Fingerprints\n"
     ]
    },
    {
     "name": "stderr",
     "output_type": "stream",
     "text": [
      "100%|██████████| 10000/10000 [00:02<00:00, 4162.15it/s]\n"
     ]
    }
   ],
   "source": [
    "from rdkit.Chem import rdFingerprintGenerator\n",
    "from io import TextIOWrapper\n",
    "from rdkit import Chem\n",
    "import pandas as pd\n",
    "import numpy as np\n",
    "import joblib\n",
    "import zipfile\n",
    "from tqdm import tqdm\n",
    "import os\n",
    "\n",
    "# Suppress rdkit logs\n",
    "from rdkit import RDLogger\n",
    "RDLogger.DisableLog('rdApp.*')\n",
    "\n",
    "# Get all pathogens i.e. {pathogen}_{target}\n",
    "PATHOGENS = sorted(os.listdir(os.path.join(\"..\", \"data\")))[:1]\n",
    "\n",
    "# Define some paths\n",
    "PATH_TO_OUTPUT = os.path.join(\"..\", \"output\", \"05_predictions_chembl\")\n",
    "PATH_TO_MODELS = os.path.join(\"..\", \"output\", \"03_baseline_models\")\n",
    "\n",
    "# Read ChEMBL data\n",
    "print(\"Reading ChEMBL data...\")\n",
    "zip_path = '../other/ChEMBL/ChEMBL_35_compounds_tsv.zip'\n",
    "dfs = []\n",
    "with zipfile.ZipFile(zip_path, 'r') as z:\n",
    "    for idx,f in enumerate(z.namelist()):\n",
    "        with z.open(f) as file:\n",
    "            if idx == 0:\n",
    "                df = pd.read_csv(TextIOWrapper(file, 'utf-8'), on_bad_lines='skip', sep='\\t')\n",
    "            else:\n",
    "                df = pd.read_csv(TextIOWrapper(file, 'utf-8'), on_bad_lines='skip', header=None, names=dfs[0].columns, sep='\\t')\n",
    "            df['source_file'] = f\n",
    "            dfs.append(df)\n",
    "dfs = pd.concat(dfs, ignore_index=True)\n",
    "print(f\"{len(dfs)} processed compounds\")\n",
    "\n",
    "# Selecting small molecules\n",
    "print(\"Selecting only small molecules...\")\n",
    "dfs = dfs[(dfs['Type'] == 'Small molecule') & (dfs['Smiles'].isna() == False)].reset_index(drop=True)\n",
    "print(f\"{len(dfs)} selected small molecules\")\n",
    "chembl_smiles = sorted(dfs['Smiles'])\n",
    "N = 10000\n",
    "np.random.seed(42)\n",
    "indices = np.random.choice(len(chembl_smiles), size=N, replace=False)\n",
    "print(f\"Subsampling {len(indices)} small molecules...\")\n",
    "chembl_smiles = np.array(chembl_smiles)[indices]\n",
    "\n",
    "\n",
    "# Calculate Morgan Fingerprints\n",
    "print(\"Calculating Morgan Fingerprints\")\n",
    "mfpgen = rdFingerprintGenerator.GetMorganGenerator(radius=3, fpSize=2048)\n",
    "X = []\n",
    "for smiles in tqdm(chembl_smiles):\n",
    "    try:\n",
    "        mol = Chem.MolFromSmiles(smiles)\n",
    "        mfp = mfpgen.GetCountFingerprint(mol)\n",
    "        X.append(mfp.ToList())\n",
    "    except:\n",
    "        pass\n",
    "\n",
    "# Convert to numpy array\n",
    "X = np.array(X, dtype=np.int16)"
   ]
  },
  {
   "cell_type": "code",
   "execution_count": 3,
   "id": "54f16cb1",
   "metadata": {},
   "outputs": [
    {
     "data": {
      "text/plain": [
       "(10000, 2048)"
      ]
     },
     "execution_count": 3,
     "metadata": {},
     "output_type": "execute_result"
    }
   ],
   "source": [
    "X.shape"
   ]
  },
  {
   "cell_type": "code",
   "execution_count": null,
   "id": "43c770b4",
   "metadata": {},
   "outputs": [],
   "source": []
  },
  {
   "cell_type": "code",
   "execution_count": null,
   "id": "bfe9f821",
   "metadata": {},
   "outputs": [],
   "source": []
  }
 ],
 "metadata": {
  "kernelspec": {
   "display_name": "camm",
   "language": "python",
   "name": "python3"
  },
  "language_info": {
   "codemirror_mode": {
    "name": "ipython",
    "version": 3
   },
   "file_extension": ".py",
   "mimetype": "text/x-python",
   "name": "python",
   "nbconvert_exporter": "python",
   "pygments_lexer": "ipython3",
   "version": "3.10.16"
  }
 },
 "nbformat": 4,
 "nbformat_minor": 5
}
