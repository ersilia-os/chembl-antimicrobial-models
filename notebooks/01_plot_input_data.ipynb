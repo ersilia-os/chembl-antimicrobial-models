{
 "cells": [
  {
   "cell_type": "code",
   "execution_count": 3,
   "id": "ee59ba5e",
   "metadata": {},
   "outputs": [],
   "source": [
    "import matplotlib.pyplot as plt"
   ]
  },
  {
   "cell_type": "code",
   "execution_count": 5,
   "id": "4eef1838",
   "metadata": {},
   "outputs": [],
   "source": [
    "PATHOGENS=[\"abaumannii\", \"calbicans\", \"campylobacter\", \"ecoli\", \"efaecium\", \"enterobacter\", \"hpylori\", \\\n",
    "    \"kpneumoniae\", \"mtuberculosis\", \"ngonorrhoeae\", \"paeruginosa\", \"pfalciparum\", \"saureus\", \"smansoni\", \"spneumoniae\"]\n"
   ]
  },
  {
   "cell_type": "code",
   "execution_count": null,
   "id": "9f8682c2",
   "metadata": {},
   "outputs": [],
   "source": []
  }
 ],
 "metadata": {
  "kernelspec": {
   "display_name": "camm",
   "language": "python",
   "name": "python3"
  },
  "language_info": {
   "codemirror_mode": {
    "name": "ipython",
    "version": 3
   },
   "file_extension": ".py",
   "mimetype": "text/x-python",
   "name": "python",
   "nbconvert_exporter": "python",
   "pygments_lexer": "ipython3",
   "version": "3.10.16"
  }
 },
 "nbformat": 4,
 "nbformat_minor": 5
}
