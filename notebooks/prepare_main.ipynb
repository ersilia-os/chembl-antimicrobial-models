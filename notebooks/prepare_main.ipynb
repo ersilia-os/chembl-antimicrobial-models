{
 "cells": [
  {
   "cell_type": "code",
   "execution_count": 1,
   "id": "bfe9f821",
   "metadata": {},
   "outputs": [],
   "source": [
    "# imports\n",
    "import os\n",
    "import csv\n",
    "import sys\n",
    "import tqdm\n",
    "import joblib\n",
    "import numpy as np\n",
    "import pandas as pd\n",
    "from rdkit import Chem\n",
    "from rdkit.Chem import rdFingerprintGenerator\n",
    "\n",
    "# root = os.path.abspath(os.path.dirname(__file__))\n",
    "# sys.path.append(root)\n",
    "pathogen = \"abaumannii_organism\"\n",
    "PATH_TO_MODELS = \"../other/models\"\n",
    "PATH_TO_OUTPUT = os.path.join(PATH_TO_MODELS, f\"model_{pathogen}\")\n",
    "root = os.path.join(PATH_TO_OUTPUT, \"framework\", \"code\")\n",
    "\n",
    "# current file directory\n",
    "checkpoints_dir = os.path.join(root, \"..\", \"..\", \"checkpoints\")\n",
    "tasks = pd.read_csv(os.path.join(root, \"..\", \"columns\", \"run_columns.csv\"))['name'].tolist()\n",
    "\n",
    "# parse arguments\n",
    "# input_file = sys.argv[1]\n",
    "# output_file = sys.argv[2]\n",
    "\n",
    "input_file = os.path.join(root, \"..\", \"examples\", \"run_input.csv\")\n",
    "output_file = os.path.join(root, \"..\", \"examples\", \"run_output.csv\")\n",
    "\n",
    "# Read smiles\n",
    "with open(input_file, \"r\") as f:\n",
    "    smiles = []\n",
    "    reader = csv.reader(f)\n",
    "    next(reader)\n",
    "    for r in reader:\n",
    "        smiles += [r[0]]\n",
    "\n",
    "# Get Morgan fingerprints\n",
    "X = []\n",
    "mfpgen = rdFingerprintGenerator.GetMorganGenerator(radius=3, fpSize=2048)\n",
    "for smi in smiles:\n",
    "    mol = Chem.MolFromSmiles(smi)\n",
    "    mfp = mfpgen.GetCountFingerprint(mol)\n",
    "    X.append(mfp.ToList())\n",
    "\n",
    "# Convert to numpy array\n",
    "X = np.array(X, dtype=np.int16)\n",
    "\n",
    "# Create output DataFrame\n",
    "OUTPUT = pd.DataFrame({\"smiles\": smiles})  # We will remove this column later"
   ]
  },
  {
   "cell_type": "code",
   "execution_count": 2,
   "id": "ee11da45",
   "metadata": {},
   "outputs": [
    {
     "data": {
      "text/plain": [
       "array([[0, 0, 0, ..., 0, 0, 0],\n",
       "       [0, 2, 0, ..., 0, 0, 0],\n",
       "       [0, 0, 0, ..., 0, 0, 0]], dtype=int16)"
      ]
     },
     "execution_count": 2,
     "metadata": {},
     "output_type": "execute_result"
    }
   ],
   "source": [
    "X"
   ]
  },
  {
   "cell_type": "code",
   "execution_count": null,
   "id": "f20f34bf",
   "metadata": {},
   "outputs": [],
   "source": []
  },
  {
   "cell_type": "code",
   "execution_count": null,
   "id": "2119385c",
   "metadata": {},
   "outputs": [],
   "source": []
  }
 ],
 "metadata": {
  "kernelspec": {
   "display_name": "camm",
   "language": "python",
   "name": "python3"
  },
  "language_info": {
   "codemirror_mode": {
    "name": "ipython",
    "version": 3
   },
   "file_extension": ".py",
   "mimetype": "text/x-python",
   "name": "python",
   "nbconvert_exporter": "python",
   "pygments_lexer": "ipython3",
   "version": "3.10.16"
  }
 },
 "nbformat": 4,
 "nbformat_minor": 5
}
